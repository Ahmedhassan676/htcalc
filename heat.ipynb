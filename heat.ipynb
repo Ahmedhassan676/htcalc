{
 "cells": [
  {
   "cell_type": "code",
   "execution_count": 1,
   "metadata": {},
   "outputs": [],
   "source": [
    "import pandas as pd\n",
    "import numpy as np\n",
    "import ht"
   ]
  },
  {
   "cell_type": "code",
   "execution_count": 2,
   "metadata": {},
   "outputs": [],
   "source": [
    "\n",
    "def load_table():\n",
    "    url ='heat_table.csv'\n",
    "\n",
    "    return pd.read_csv(url, index_col=[0])\n",
    "\n",
    "def load_summary_table():\n",
    "    url ='summary_table.csv'\n",
    "\n",
    "    return pd.read_csv(url, index_col=[0])"
   ]
  },
  {
   "cell_type": "code",
   "execution_count": 3,
   "metadata": {},
   "outputs": [],
   "source": [
    "def thermo_prop(sg,t):\n",
    "    t = 1.8*t+32\n",
    "    thermo_list = []\n",
    "    thermal_coductivity = (0.813/sg)*(1-0.0003*(t-32))\n",
    "    cp = (1/np.sqrt(sg))*(0.388+0.00045*t)\n",
    "    cv = cp-(0.09/sg)\n",
    "    latent_heat = (1/sg)*(110.9-0.09*t)\n",
    "    thermo_list.append([thermal_coductivity,cp,cv,latent_heat])\n",
    "    return thermo_list"
   ]
  },
  {
   "cell_type": "code",
   "execution_count": 4,
   "metadata": {},
   "outputs": [
    {
     "data": {
      "text/plain": [
       "[[1.0235242105263158,\n",
       "  0.5359151543216324,\n",
       "  0.41749410169005347,\n",
       "  125.07894736842107]]"
      ]
     },
     "execution_count": 4,
     "metadata": {},
     "output_type": "execute_result"
    }
   ],
   "source": [
    "thermo_prop(.76,80)"
   ]
  },
  {
   "cell_type": "code",
   "execution_count": 35,
   "metadata": {},
   "outputs": [
    {
     "name": "stdout",
     "output_type": "stream",
     "text": [
      "968.1415468976672 1.0322765764555786 l 0.32180084890642174 0.0019024866584633436\n"
     ]
    }
   ],
   "source": [
    "from thermo.chemical import Chemical\n",
    "from thermo.viscosity import ViscosityLiquid\n",
    "from thermo import Mixture\n",
    "import thermo\n",
    "\n",
    "# Define the components of the mixture and their mole fractions\n",
    "components = ['water', thermo.unifac.NISTUFMG[2][0]]\n",
    "mole_fractions = {'water':0.8, 'ethanol':0.2} #[0.6, 0.4]\n",
    "\n",
    "# Define the temperature and pressure of the mixture\n",
    "temperature = 298.15# K\n",
    "pressure = 101325 # Pa\n",
    "\n",
    "# Create a Chemical object for each component\n",
    "chemicals = [Chemical(component) for component in components]\n",
    "liquid_mixture = Mixture(list(mole_fractions.keys()), ws=list(mole_fractions.values()), T=temperature, P=pressure)\n",
    "# Calculate the viscosity of the mixture using the ViscosityLiquid function\n",
    "#viscosity = ViscosityLiquid.Mixture(chemicals, mole_fractions, temperature, pressure)\n",
    "print(liquid_mixture.rho,liquid_mixture.Cp/4184,liquid_mixture.phase,liquid_mixture.k,liquid_mixture.mu)\n",
    "#print(f\"The viscosity of the liquid mixture at {temperature} K and {pressure} Pa is {viscosity} Pa.s\")\n",
    "#thermo.datasheet.tabulate_liq('water', Tmin=None, Tmax=None, pts=10)\n",
    "#thermo.unifac.NISTUFMG"
   ]
  },
  {
   "cell_type": "code",
   "execution_count": 6,
   "metadata": {},
   "outputs": [
    {
     "data": {
      "text/plain": [
       "1.0"
      ]
     },
     "execution_count": 6,
     "metadata": {},
     "output_type": "execute_result"
    }
   ],
   "source": [
    "\n",
    "\n",
    "gases_list = ['water', 'hydrogen', 'nitrogen', 'carbon dioxide', 'hydrogen sulfide','methane',\n",
    "'ethane', 'propane', 'isobutane', 'n-butane', 'isopentane', 'n-pentane', 'hexane',\n",
    "'heptane', 'octane', 'nonane']\n",
    "sum([1/len(gases_list) for i in range(len(gases_list))])"
   ]
  },
  {
   "cell_type": "code",
   "execution_count": 7,
   "metadata": {},
   "outputs": [
    {
     "data": {
      "text/plain": [
       "0.14800290740585603"
      ]
     },
     "execution_count": 7,
     "metadata": {},
     "output_type": "execute_result"
    }
   ],
   "source": [
    "from thermo import Mixture\n",
    "gases_list = ['water', 'hydrogen', 'nitrogen', 'carbon dioxide', 'hydrogen sulfide','methane',\n",
    "'ethane', 'propane', 'isobutane', 'n-butane', 'isopentane', 'n-pentane', 'hexane',\n",
    "'heptane', 'octane', 'nonane']\n",
    "liquid_list= ['water', 'ethanol', 'methanol', 'acetic acid', 'propylene glycol', 'glycerol', 'dimethyl sulfoxide', 'benzene', 'toluene', 'xylene', 'acetone', 'butanol', 'pentanol', 'hexanol', 'heptanol', 'octanol', 'nonanol', 'decanol', 'ethylene glycol', 'diethylene glycol', 'propylene carbonate', 'tetrahydrofuran', 'acetonitrile', 'formamide', 'isopropyl alcohol', 'methyl ethyl ketone', 'dioxane', 'pyridine', 'hexamethylphosphoramide','dimethylamine', 'diethylamine', 'triethylamine', 'trimethylamine', 'ethanolamine', 'diethanolamine', 'triethanolamine', 'methyldiethanolamine', 'piperazine']\n",
    "range(len(gases_list)+len(liquid_list))\n",
    "c = gases_list + liquid_list\n",
    "sum([1/(len(gases_list)+len(liquid_list)) for i in range(len(gases_list)+len(liquid_list))])\n",
    "mixture = Mixture(c, zs=[1/(len(gases_list)+len(liquid_list)) for i in range(len(gases_list)+len(liquid_list))], T=298, P=100000)\n",
    "mixture.VF"
   ]
  },
  {
   "cell_type": "code",
   "execution_count": null,
   "metadata": {},
   "outputs": [],
   "source": []
  },
  {
   "cell_type": "code",
   "execution_count": 8,
   "metadata": {},
   "outputs": [
    {
     "name": "stdout",
     "output_type": "stream",
     "text": [
      "0.4759737145445875\n",
      "0.513771553468766\n"
     ]
    },
    {
     "data": {
      "text/plain": [
       "<matplotlib.legend.Legend at 0x17da1fd18b0>"
      ]
     },
     "execution_count": 8,
     "metadata": {},
     "output_type": "execute_result"
    },
    {
     "data": {
      "image/png": "[encoded data removed]",
      "text/plain": [
       "<Figure size 640x480 with 1 Axes>"
      ]
     },
     "metadata": {},
     "output_type": "display_data"
    }
   ],
   "source": [
    "import numpy as np\n",
    "import pandas as pd\n",
    "import matplotlib.pyplot as plt\n",
    "def density(sg,temperature):\n",
    "                api = (141.5/sg) - 131.5\n",
    "                if api <=14.9:\n",
    "                    eta= 0.00035\n",
    "                elif api <= 34.9:\n",
    "                    eta= 0.0004\n",
    "                elif api <= 50.9:\n",
    "                    eta= 0.0005\n",
    "                elif api <= 63.9:\n",
    "                    eta= 0.0006\n",
    "                elif api <= 78.9:\n",
    "                    eta= 0.0007\n",
    "                elif api <= 88.9:\n",
    "                    eta= 0.0008\n",
    "                elif api <= 93.9:\n",
    "                    eta= 0.00035 \n",
    "                elif api <= 100:\n",
    "                    eta= 0.0009   \n",
    "                else: print(\"please enter a valid Specific gravity\") \n",
    "                density = sg*1000*(1-eta*((temperature*1.8+32)-60))\n",
    "                return density\n",
    "def vis_1point(t,analysis_temp,analysis_mu,sg,unit):\n",
    "    if not unit: #unit == false, mu is in C.st\n",
    "        T =t\n",
    "        mu = analysis_mu\n",
    "        c = -0.8696\n",
    "        b= np.log10(mu)-c\n",
    "        s = 0.2008*b+1.6180\n",
    "        log_mu = (b/(1+((T-analysis_temp)/310.93))**s)+c\n",
    "        mu_calc =10**log_mu\n",
    "    else:\n",
    "        T =t\n",
    "        mu = analysis_mu/(0.001*density(sg,analysis_temp))\n",
    "        c = -0.8696\n",
    "        b= np.log10(mu)-c\n",
    "        s = 0.2008*b+1.6180\n",
    "        log_mu = (b/(1+((T-analysis_temp)/310.93))**s)+c\n",
    "        mu_calc =(10**log_mu)*(0.001*density(sg,analysis_temp))\n",
    "    return mu_calc\n",
    "#print(log_mu,mu_calc)\n",
    "list = []\n",
    "for i in range(100):\n",
    "    \n",
    "    list.append(vis_1point(i,37.78,0.8559,0.7914,True))\n",
    "list2 = []\n",
    "for i in range(100):\n",
    "    \n",
    "    list2.append(vis_1point(i,37.78,0.8559,0.7914,False))\n",
    "print(vis_1point(100,38,0.8559,0.7914,True))\n",
    "print(vis_1point(100,38,0.8559,0.7914,False))\n",
    "plt.scatter(x=range(100), y=list, label = 'cP (edited by density)')\n",
    "plt.scatter(x=range(100), y=list2, label = 'C.st (noraml)')\n",
    "plt.legend()"
   ]
  },
  {
   "cell_type": "code",
   "execution_count": 9,
   "metadata": {},
   "outputs": [
    {
     "ename": "TypeError",
     "evalue": "vis_1point() missing 2 required positional arguments: 'sg' and 'unit'",
     "output_type": "error",
     "traceback": [
      "\u001b[1;31m---------------------------------------------------------------------------\u001b[0m",
      "\u001b[1;31mTypeError\u001b[0m                                 Traceback (most recent call last)",
      "Cell \u001b[1;32mIn[9], line 1\u001b[0m\n\u001b[1;32m----> 1\u001b[0m \u001b[39mprint\u001b[39m(vis_1point(\u001b[39m37.78\u001b[39;49m,\u001b[39m20\u001b[39;49m,\u001b[39m1.2497133871091246\u001b[39;49m))\n\u001b[0;32m      2\u001b[0m \u001b[39mprint\u001b[39m(vis_1point(\u001b[39m100\u001b[39m,\u001b[39m0\u001b[39m,\u001b[39m10000\u001b[39m))\n",
      "\u001b[1;31mTypeError\u001b[0m: vis_1point() missing 2 required positional arguments: 'sg' and 'unit'"
     ]
    }
   ],
   "source": [
    "print(vis_1point(37.78,20,1.2497133871091246))\n",
    "print(vis_1point(100,0,10000))"
   ]
  },
  {
   "cell_type": "code",
   "execution_count": 10,
   "metadata": {},
   "outputs": [
    {
     "data": {
      "text/plain": [
       "42.3597741434887"
      ]
     },
     "execution_count": 10,
     "metadata": {},
     "output_type": "execute_result"
    }
   ],
   "source": [
    "\n",
    "from thermo import Mixture\n",
    "import thermo\n",
    "from thermo.property_package import GceosBase\n",
    "\n",
    "mole_fractions = {'methanol':0.2, 'ethanol':0.8} \n",
    "\n",
    "# Define the temperature and pressure of the mixture\n",
    "temperature = 300# K\n",
    "pressure = 10000000 # Pa\n",
    "\n",
    "\n",
    "# Create a Chemical object for each component\n",
    "\n",
    "mixture = Mixture([i for i in mole_fractions.keys()], ws=[i for i in mole_fractions.values()], T=temperature, P=pressure, pkg= GceosBase)\n",
    "mixture.MW"
   ]
  },
  {
   "cell_type": "code",
   "execution_count": 11,
   "metadata": {},
   "outputs": [
    {
     "data": {
      "text/plain": [
       "0     0.270809\n",
       "1     0.777670\n",
       "2     0.472887\n",
       "3     0.742914\n",
       "4     0.575311\n",
       "5     0.270809\n",
       "6     0.507588\n",
       "7     0.744368\n",
       "8     0.981147\n",
       "9     0.981147\n",
       "10    1.217926\n",
       "11    1.217926\n",
       "12    1.454705\n",
       "13    1.691485\n",
       "14    1.928264\n",
       "15    2.165043\n",
       "dtype: float64"
      ]
     },
     "execution_count": 11,
     "metadata": {},
     "output_type": "execute_result"
    }
   ],
   "source": [
    "from thermo import ChemicalConstantsPackage, PRMIX, CEOSLiquid, CEOSGas, FlashPureVLS\n",
    "import pandas as pd\n",
    "gases_list = ['methane', 'ethanol', 'nitrogen', 'carbon dioxide', 'hydrogen sulfide','methane',\n",
    "'ethane', 'propane', 'isobutane', 'n-butane', 'isopentane', 'n-pentane', 'hexane',\n",
    "'heptane', 'octane', 'nonane']\n",
    "constants, correlations = ChemicalConstantsPackage.from_IDs(gases_list)\n",
    "zs = [1/(len(gases_list)) for i in range(len(gases_list))]\n",
    "from thermo.interaction_parameters import IPDB\n",
    "kijs = IPDB.get_ip_asymmetric_matrix('ChemSep PR', constants.CASs, 'kij')\n",
    "eos_kwargs = {'Pcs': constants.Pcs, 'Tcs': constants.Tcs, 'omegas': constants.omegas, 'kijs': kijs}\n",
    "#eos_kwargs = dict(Tcs=constants.Tcs, Pcs=constants.Pcs, omegas=constants.omegas)\n",
    "liquid = CEOSLiquid(PRMIX, HeatCapacityGases=correlations.HeatCapacityGases,\n",
    "eos_kwargs=eos_kwargs)\n",
    "gas = CEOSGas(PRMIX, HeatCapacityGases=correlations.HeatCapacityGases,\n",
    "eos_kwargs=eos_kwargs)\n",
    "flasher = FlashPureVLS(constants, correlations, liquids=[liquid], gas=gas, solids=[])\n",
    "T1 = 273.15+20\n",
    "gas_mixture = flasher.flash(P=100000, T=T1,zs=zs)\n",
    "props = ['density', 'Cp','Cv', 'thermal conductivity','viscosity']\n",
    "prop_calc_table = pd.DataFrame(index=props,columns=['Calculated_properties','Method'])\n",
    "prop_calc_table.loc['Phase','Calculated_properties'] = gas_mixture.phase\n",
    "prop_calc_table.loc['Vapor Fraction','Calculated_properties'] = gas_mixture.VF\n",
    "prop_calc_table.loc['thermal conductivity','Calculated_properties'] = gas_mixture.k()\n",
    "prop_calc_table.loc['density','Calculated_properties'] = gas_mixture.rho_mass()*(1000/847.38)\n",
    "prop_calc_table.loc['Cp','Calculated_properties'] = gas_mixture.Cp()/4184\n",
    "prop_calc_table.loc['Cv','Calculated_properties'] = gas_mixture.Cv()/4184\n",
    "prop_calc_table.loc['viscosity','Calculated_properties'] = gas_mixture.mu()*1000\n",
    "prop_calc_table.loc['Molecular Weight','Calculated_properties'] = gas_mixture.MW()\n",
    "prop_calc_table.loc['Compressibility factor','Calculated_properties'] = gas_mixture.Z()\n",
    "prop_calc_table.loc['K (Cp/Cv)','Calculated_properties'] = gas_mixture.isentropic_exponent()\n",
    "prop_calc_table.loc[:,'Method']= 'Thermo Library'\n",
    "gas_mixture.mu()*1000\n",
    "prop_calc_table\n",
    "-gas_mixture.Hc_lower_mass()/4184\n",
    "gas_mixture.Hcs_lower_mass*np.array(zs)\n",
    "pd.Series(zs)*pd.Series(gas_mixture.Hcs_lower_mass).fillna(0)\n",
    "pd.Series(gas_mixture.MWs)/gas_mixture.MW()"
   ]
  },
  {
   "cell_type": "code",
   "execution_count": 12,
   "metadata": {},
   "outputs": [
    {
     "ename": "NameError",
     "evalue": "name 'FlashVL' is not defined",
     "output_type": "error",
     "traceback": [
      "\u001b[1;31m---------------------------------------------------------------------------\u001b[0m",
      "\u001b[1;31mNameError\u001b[0m                                 Traceback (most recent call last)",
      "Cell \u001b[1;32mIn[12], line 13\u001b[0m\n\u001b[0;32m      9\u001b[0m liquid \u001b[39m=\u001b[39m CEOSLiquid(PRMIX, HeatCapacityGases\u001b[39m=\u001b[39mcorrelations\u001b[39m.\u001b[39mHeatCapacityGases,\n\u001b[0;32m     10\u001b[0m eos_kwargs\u001b[39m=\u001b[39meos_kwargs)\n\u001b[0;32m     11\u001b[0m gas \u001b[39m=\u001b[39m CEOSGas(PRMIX, HeatCapacityGases\u001b[39m=\u001b[39mcorrelations\u001b[39m.\u001b[39mHeatCapacityGases,\n\u001b[0;32m     12\u001b[0m eos_kwargs\u001b[39m=\u001b[39meos_kwargs)\n\u001b[1;32m---> 13\u001b[0m flasher \u001b[39m=\u001b[39m FlashVL(constants, correlations, liquid\u001b[39m=\u001b[39mliquid, gas\u001b[39m=\u001b[39mgas)\n\u001b[0;32m     14\u001b[0m T1 \u001b[39m=\u001b[39m \u001b[39m273.15\u001b[39m\u001b[39m+\u001b[39m\u001b[39m30\u001b[39m\n\u001b[0;32m     15\u001b[0m state_1 \u001b[39m=\u001b[39m flasher\u001b[39m.\u001b[39mflash(P\u001b[39m=\u001b[39m\u001b[39m100000\u001b[39m, T\u001b[39m=\u001b[39mT1,zs\u001b[39m=\u001b[39mzs)\n",
      "\u001b[1;31mNameError\u001b[0m: name 'FlashVL' is not defined"
     ]
    }
   ],
   "source": [
    "gases_list = ['water', 'hydrogen', 'nitrogen', 'carbon dioxide', 'hydrogen sulfide','methane',\n",
    "'ethane', 'propane', 'isobutane', 'n-butane', 'isopentane', 'n-pentane', 'hexane',\n",
    "'heptane', 'octane', 'nonane']\n",
    "liquid_list= ['water', 'ethanol', 'methanol', 'acetic acid', 'propylene glycol', 'glycerol', 'dimethyl sulfoxide', 'benzene', 'toluene', 'xylene', 'acetone', 'butanol', 'pentanol', 'hexanol', 'heptanol', 'octanol', 'nonanol', 'decanol', 'ethylene glycol', 'diethylene glycol', 'propylene carbonate', 'tetrahydrofuran', 'acetonitrile', 'formamide', 'isopropyl alcohol', 'methyl ethyl ketone', 'dioxane', 'pyridine', 'hexamethylphosphoramide','dimethylamine', 'diethylamine', 'triethylamine', 'trimethylamine', 'ethanolamine', 'diethanolamine', 'triethanolamine', 'methyldiethanolamine', 'piperazine']\n",
    "c = gases_list + liquid_list\n",
    "constants, correlations = ChemicalConstantsPackage.from_IDs(c)\n",
    "zs = [1/(len(c)) for i in range(len(c))]\n",
    "eos_kwargs = dict(Tcs=constants.Tcs, Pcs=constants.Pcs, omegas=constants.omegas)\n",
    "liquid = CEOSLiquid(PRMIX, HeatCapacityGases=correlations.HeatCapacityGases,\n",
    "eos_kwargs=eos_kwargs)\n",
    "gas = CEOSGas(PRMIX, HeatCapacityGases=correlations.HeatCapacityGases,\n",
    "eos_kwargs=eos_kwargs)\n",
    "flasher = FlashVL(constants, correlations, liquid=liquid, gas=gas)\n",
    "T1 = 273.15+30\n",
    "state_1 = flasher.flash(P=100000, T=T1,zs=zs)\n",
    "state_1.VF"
   ]
  },
  {
   "cell_type": "code",
   "execution_count": null,
   "metadata": {},
   "outputs": [
    {
     "data": {
      "text/plain": [
       "[1, 0, 0]"
      ]
     },
     "execution_count": 17,
     "metadata": {},
     "output_type": "execute_result"
    }
   ],
   "source": [
    "from thermo import ChemicalConstantsPackage, CEOSGas, CEOSLiquid, PRMIX, FlashVL\n",
    "from thermo.interaction_parameters import IPDB\n",
    "constants, properties = ChemicalConstantsPackage.from_IDs( ['water','hydrogen'])#['hydrogen','methane', 'ethane','propane'])\n",
    "kijs = IPDB.get_ip_asymmetric_matrix('ChemSep PR', constants.CASs, 'kij')\n",
    "\n",
    "eos_kwargs = {'Pcs': constants.Pcs, 'Tcs': constants.Tcs, 'omegas': constants.omegas, 'kijs': kijs}\n",
    "gas = CEOSGas(PRMIX, eos_kwargs=eos_kwargs, HeatCapacityGases=properties.HeatCapacityGases)\n",
    "liquid = CEOSLiquid(PRMIX, eos_kwargs=eos_kwargs, HeatCapacityGases=properties.HeatCapacityGases)\n",
    "flasher = FlashVL(constants, properties, liquid=liquid, gas=gas)\n",
    "zs = [1,0]\n",
    "t = 273.15+20\n",
    "PT = flasher.flash(T=t, P=98066.5, zs=zs)\n",
    "#PT.VF, PT.gas.zs, PT.liquid0.zs\n",
    "PT.mu()*1000\n"
   ]
  },
  {
   "cell_type": "code",
   "execution_count": null,
   "metadata": {},
   "outputs": [
    {
     "data": {
      "text/html": [
       "<div>\n",
       "<style scoped>\n",
       "    .dataframe tbody tr th:only-of-type {\n",
       "        vertical-align: middle;\n",
       "    }\n",
       "\n",
       "    .dataframe tbody tr th {\n",
       "        vertical-align: top;\n",
       "    }\n",
       "\n",
       "    .dataframe thead th {\n",
       "        text-align: right;\n",
       "    }\n",
       "</style>\n",
       "<table border=\"1\" class=\"dataframe\">\n",
       "  <thead>\n",
       "    <tr style=\"text-align: right;\">\n",
       "      <th></th>\n",
       "      <th>data</th>\n",
       "    </tr>\n",
       "  </thead>\n",
       "  <tbody>\n",
       "    <tr>\n",
       "      <th>Mass</th>\n",
       "      <td>10</td>\n",
       "    </tr>\n",
       "    <tr>\n",
       "      <th>Length</th>\n",
       "      <td>20</td>\n",
       "    </tr>\n",
       "    <tr>\n",
       "      <th>Time</th>\n",
       "      <td>30</td>\n",
       "    </tr>\n",
       "    <tr>\n",
       "      <th>Temperature</th>\n",
       "      <td>40</td>\n",
       "    </tr>\n",
       "    <tr>\n",
       "      <th>Heat capacity</th>\n",
       "      <td>50</td>\n",
       "    </tr>\n",
       "    <tr>\n",
       "      <th>Enthalpy</th>\n",
       "      <td>60</td>\n",
       "    </tr>\n",
       "    <tr>\n",
       "      <th>Thermal conductivity</th>\n",
       "      <td>70</td>\n",
       "    </tr>\n",
       "    <tr>\n",
       "      <th>Mass flow rate</th>\n",
       "      <td>80</td>\n",
       "    </tr>\n",
       "    <tr>\n",
       "      <th>Viscosity</th>\n",
       "      <td>1</td>\n",
       "    </tr>\n",
       "  </tbody>\n",
       "</table>\n",
       "</div>"
      ],
      "text/plain": [
       "                      data\n",
       "Mass                    10\n",
       "Length                  20\n",
       "Time                    30\n",
       "Temperature             40\n",
       "Heat capacity           50\n",
       "Enthalpy                60\n",
       "Thermal conductivity    70\n",
       "Mass flow rate          80\n",
       "Viscosity                1"
      ]
     },
     "execution_count": 12,
     "metadata": {},
     "output_type": "execute_result"
    }
   ],
   "source": [
    "import pandas as pd\n",
    "properties = {    \"Mass\": \"kg\",    \"Length\": \"m\",    \"Time\": \"s\",    \"Temperature\": \"°C\",    \"Heat capacity\": \"J/(kg*°C)\",    \"Enthalpy\": \"J\",    \"Thermal conductivity\": \"W/(m*°C)\",    \"Mass flow rate\": \"kg/hr\",    \"Viscosity\": \"cP\",    \"Density\": \"kg/m³\"}\n",
    "s = pd.Series(properties)\n",
    "data = {    \"Mass\": 10,    \"Length\": 20,    \"Time\":30,    \"Temperature\": 40,    \"Heat capacity\": 50,    \"Enthalpy\": 60,    \"Thermal conductivity\": 70,    \"Mass flow rate\": 80,    \"Viscosity\": 1}\n",
    "df = pd.DataFrame( index=data.keys(), columns=['data'])\n",
    "df['data'] = data.values()\n",
    "df"
   ]
  },
  {
   "cell_type": "code",
   "execution_count": null,
   "metadata": {},
   "outputs": [
    {
     "data": {
      "text/html": [
       "<div>\n",
       "<style scoped>\n",
       "    .dataframe tbody tr th:only-of-type {\n",
       "        vertical-align: middle;\n",
       "    }\n",
       "\n",
       "    .dataframe tbody tr th {\n",
       "        vertical-align: top;\n",
       "    }\n",
       "\n",
       "    .dataframe thead th {\n",
       "        text-align: right;\n",
       "    }\n",
       "</style>\n",
       "<table border=\"1\" class=\"dataframe\">\n",
       "  <thead>\n",
       "    <tr style=\"text-align: right;\">\n",
       "      <th></th>\n",
       "      <th>data</th>\n",
       "      <th>series</th>\n",
       "    </tr>\n",
       "  </thead>\n",
       "  <tbody>\n",
       "    <tr>\n",
       "      <th>Mass</th>\n",
       "      <td>10</td>\n",
       "      <td>kg</td>\n",
       "    </tr>\n",
       "    <tr>\n",
       "      <th>Length</th>\n",
       "      <td>20</td>\n",
       "      <td>m</td>\n",
       "    </tr>\n",
       "    <tr>\n",
       "      <th>Time</th>\n",
       "      <td>30</td>\n",
       "      <td>s</td>\n",
       "    </tr>\n",
       "    <tr>\n",
       "      <th>Temperature</th>\n",
       "      <td>40</td>\n",
       "      <td>°C</td>\n",
       "    </tr>\n",
       "    <tr>\n",
       "      <th>Heat capacity</th>\n",
       "      <td>50</td>\n",
       "      <td>J/(kg*°C)</td>\n",
       "    </tr>\n",
       "    <tr>\n",
       "      <th>Enthalpy</th>\n",
       "      <td>60</td>\n",
       "      <td>J</td>\n",
       "    </tr>\n",
       "    <tr>\n",
       "      <th>Thermal conductivity</th>\n",
       "      <td>70</td>\n",
       "      <td>W/(m*°C)</td>\n",
       "    </tr>\n",
       "    <tr>\n",
       "      <th>Mass flow rate</th>\n",
       "      <td>80</td>\n",
       "      <td>kg/hr</td>\n",
       "    </tr>\n",
       "    <tr>\n",
       "      <th>Viscosity</th>\n",
       "      <td>1</td>\n",
       "      <td>cP</td>\n",
       "    </tr>\n",
       "  </tbody>\n",
       "</table>\n",
       "</div>"
      ],
      "text/plain": [
       "                      data     series\n",
       "Mass                    10         kg\n",
       "Length                  20          m\n",
       "Time                    30          s\n",
       "Temperature             40         °C\n",
       "Heat capacity           50  J/(kg*°C)\n",
       "Enthalpy                60          J\n",
       "Thermal conductivity    70   W/(m*°C)\n",
       "Mass flow rate          80      kg/hr\n",
       "Viscosity                1         cP"
      ]
     },
     "execution_count": 13,
     "metadata": {},
     "output_type": "execute_result"
    }
   ],
   "source": [
    "df.merge(s.rename('series'), left_index=True,right_index=True)"
   ]
  },
  {
   "cell_type": "code",
   "execution_count": null,
   "metadata": {},
   "outputs": [
    {
     "data": {
      "text/plain": [
       "0.007394105695403067"
      ]
     },
     "execution_count": 72,
     "metadata": {},
     "output_type": "execute_result"
    }
   ],
   "source": [
    "import pandas as pd\n",
    "import numpy as np\n",
    "j_const = pd.read_csv('j_consts.csv')\n",
    "j_const\n",
    "Res = 20000\n",
    "Do =19\n",
    "tpitch=25.4\n",
    "a1 = np.where((Res < j_const['Reynolds_max']) & (Res < j_const['Reynolds_max']) & (j_const['Layout'] == 90) ,j_const['a_{1}'],0).sum()\n",
    "a2 = np.where((Res < j_const['Reynolds_max']) & (Res < j_const['Reynolds_max']) & (j_const['Layout'] == 90) ,j_const['a_{2}'],0).sum()\n",
    "a3 = np.where((Res < j_const['Reynolds_max']) & (Res < j_const['Reynolds_max']) & (j_const['Layout'] == 90) ,j_const['a_{3}'],0).sum()\n",
    "a4 = np.where((Res < j_const['Reynolds_max']) & (Res < j_const['Reynolds_max']) & (j_const['Layout'] == 90) ,j_const['a_{4}'],0).sum()\n",
    "b1 = np.where((Res < j_const['Reynolds_max']) & (Res < j_const['Reynolds_max']) & (j_const['Layout'] == 90) ,j_const['b_{1}'],0).sum()\n",
    "b2 = np.where((Res < j_const['Reynolds_max']) & (Res < j_const['Reynolds_max']) & (j_const['Layout'] == 90) ,j_const['b_{2}'],0).sum()\n",
    "b3 = np.where((Res < j_const['Reynolds_max']) & (Res < j_const['Reynolds_max']) & (j_const['Layout'] == 90) ,j_const['b_{3}'],0).sum()\n",
    "b4 = np.where((Res < j_const['Reynolds_max']) & (Res < j_const['Reynolds_max']) & (j_const['Layout'] == 90) ,j_const['b_{4}'],0).sum()\n",
    "a = a3/(1+0.14*(Res**a4))\n",
    "b = b3/(1+0.14*(Res**b4))\n",
    "j = a1 * ((1.33/(tpitch/Do))**a)*(Res**a2)\n",
    "j"
   ]
  },
  {
   "cell_type": "code",
   "execution_count": null,
   "metadata": {},
   "outputs": [
    {
     "data": {
      "text/plain": [
       "19"
      ]
     },
     "execution_count": 71,
     "metadata": {},
     "output_type": "execute_result"
    }
   ],
   "source": [
    "import pandas as pd\n",
    "import openpyxl\n",
    "import ht\n",
    "import numpy as np\n",
    "workbook = openpyxl.load_workbook('datasheet_bell.xlsx', data_only=True)\n",
    "worksheet = workbook['Sheet1']\n",
    "\n",
    "t1_s = worksheet['H20'].value\n",
    "t2_s =worksheet['I20'].value\n",
    "m_s = worksheet['H14'].value\n",
    "Cp_s = worksheet['H24'].value\n",
    "mu_s = worksheet['H22'].value*0.001\n",
    "rho_s =  worksheet['H21'].value\n",
    "k_s = worksheet['H25'].value\n",
    "fouling_s = worksheet['H30'].value\n",
    "mu_t = worksheet['K22'].value*0.001\n",
    "fouling_t =  worksheet['K30'].value\n",
    "rho_t =  worksheet['K21'].value\n",
    "m_t = worksheet['K14'].value\n",
    "t1_t =  worksheet['K20'].value\n",
    "t2_t = worksheet['L20'].value\n",
    "Cp_t = worksheet['K24'].value\n",
    "k_t =worksheet['K25'].value\n",
    "\n",
    "shell_side ='Hot Side'\n",
    "s2 = 'Cold side T2'\n",
    "if shell_side == 'Hot Side':\n",
    "    T1 = t1_s  \n",
    "    T2 =t2_s\n",
    "    m_c = m_t\n",
    "    \n",
    "    m_h = m_s\n",
    "    t1 = t1_t\n",
    "    t2 = t2_t\n",
    "    Cp_h = Cp_s\n",
    "    Cp_c = Cp_t\n",
    "    \n",
    "else:\n",
    "    T1 = t1_t  \n",
    "    T2 =t2_t\n",
    "    m_c = m_s\n",
    "    m_h = m_t\n",
    "    t1 = t1_s\n",
    "    t2 = t2_s\n",
    "    Cp_h = Cp_t\n",
    "    Cp_c = Cp_s\n",
    "if s2 == 'Hot side mass flow':\n",
    "    Q = m_c * Cp_c * (t2-t1)\n",
    "    m_h = Q/(Cp_h*(T1-T2))\n",
    "elif s2 == 'Hot side T1':\n",
    "    Q = m_c * Cp_c * (t2-t1)\n",
    "    T1 = T2 + (Q/m_h*Cp_h)\n",
    "elif s2 == 'Hot side T2':\n",
    "    Q = m_c * Cp_c * (t2-t1)\n",
    "    T2 = T1 - (Q/m_h*Cp_h)\n",
    "elif s2 == 'Cold side mass flow':\n",
    "    Q = m_h * Cp_h * (T1-T2)\n",
    "    m_c = Q/(Cp_c*(t2-t1)) \n",
    "elif s2 == 'Cold side T1':\n",
    "    Q = m_h * Cp_h * (T1-T2)\n",
    "    t1 = t2 - (Q/m_c*Cp_c)\n",
    "else: #cold side T2\n",
    "    Q = m_h * Cp_h * (T1-T2)\n",
    "    t2 = t1 + (Q/m_c*Cp_c)\n",
    "dTlm = ht.LMTD(T1,T2,t1,t2)\n",
    "\n",
    "ft = ht.F_LMTD_Fakheri(t1,t2,T1,T2,1)\n",
    "Do = 19\n",
    "thick = 1.5\n",
    "Di = (Do - 2*thick)*0.001\n",
    "\n",
    "shell_D = 580/1000\n",
    "tn = 374\n",
    "pn = 1\n",
    "#Do = float(geo_df.iloc[2,1])\n",
    "#Di = (Do - 2*float(geo_df.iloc[3,1]))*0.001\n",
    "L = 8000\n",
    "tpitch = 25.4\n",
    "b_space = 500\n",
    "b_cut = 25\n",
    "\n",
    "\n",
    "\n",
    "pitch ='square'\n",
    "if pitch == 'square':\n",
    "    De = 4*(((tpitch*0.001)**2)-(3.14*((Do*0.001)**2)*0.25))/(3.14*Do*0.001)\n",
    "else:\n",
    "    De = 8*(0.43301*((tpitch*0.001)**2)-(3.14*((Do*0.001)**2)*0.125))/(3.14*Do*0.001)\n",
    "C = tpitch-Do\n",
    "As = (shell_D*b_space*C)/(tpitch*1000)\n",
    "Gs = m_h/(As*3600)\n",
    "Res = (De*Gs)/mu_s\n",
    "f = np.exp(0.576-(0.19*np.log(Res)))\n",
    "Nb = (L/b_space)-1\n",
    "dp_s = ((f*(Gs**2)*(Nb+1)*shell_D)/(2*rho_s*De))*0.000010197\n",
    "L = L/1000\n",
    "A = np.pi*L*Do*0.001*1*tn\n",
    "Cp_t = Cp_t*4184\n",
    "Cp_s = Cp_s*4184\n",
    "cross_A=(np.pi*0.25*(Di**2))*(tn/pn)\n",
    "velocity_t = m_c/(rho_t*3600*cross_A)\n",
    "Ret=(rho_t*velocity_t*Di)/mu_t\n",
    "f_t =1/(1.58*np.log(Ret)-3.28)**2 # valid for Re 2300 to 5,000,000 and Pr 0.5 to 2000\n",
    "port_1 = f_t*L*pn/Di\n",
    "port_2 = rho_t*(velocity_t**2)/2\n",
    "dp_t = (4*(port_1)+4*(pn))*port_2*0.000010197\n",
    "h_shell = (0.36*((Res)**0.55)*((Cp_s*mu_s/k_s)**(1/3)))*k_s/De #for Re between 2000 and 1,000,000\n",
    "Pr = Cp_t*mu_t/k_t\n",
    "Nu = ((0.5*f_t*(Ret-1000)*Pr))/(1+12.7*((0.5*f_t)**0.5)*((Pr**(2/3))-1)) # valid for Re 2300 to 5,000,000 (Gnielinski)\n",
    "h_t = Nu *k_t/Di\n",
    "d_ratio = Do/(Di*1000)\n",
    "Uc = 1/((d_ratio/h_t)+(Do*0.001*np.log(d_ratio)/(2*60))+(1/h_shell))\n",
    "Ud = 1/((d_ratio/h_t)+(Do*0.001*np.log(d_ratio)/(2*60))+(1/h_shell)+fouling_s+(d_ratio*fouling_t))\n",
    "U_calc = Q/(ft*dTlm*A)\n",
    "Rdesign = - (1/Uc) + (1/Ud)\n",
    "Rsevice = - (1/Uc) + (1/U_calc)\n",
    "j_const = pd.read_csv('j_consts.csv')\n",
    "a1 = np.where((Res < j_const['Reynolds_max']) & (Res < j_const['Reynolds_max']) & (j_const['Layout'] == 90) ,j_const['a_{1}'],0).sum()\n",
    "a2 = np.where((Res < j_const['Reynolds_max']) & (Res < j_const['Reynolds_max']) & (j_const['Layout'] == 90) ,j_const['a_{2}'],0).sum()\n",
    "a3 = np.where((Res < j_const['Reynolds_max']) & (Res < j_const['Reynolds_max']) & (j_const['Layout'] == 90) ,j_const['a_{3}'],0).sum()\n",
    "a4 = np.where((Res < j_const['Reynolds_max']) & (Res < j_const['Reynolds_max']) & (j_const['Layout'] == 90) ,j_const['a_{4}'],0).sum()\n",
    "b1 = np.where((Res < j_const['Reynolds_max']) & (Res < j_const['Reynolds_max']) & (j_const['Layout'] == 90) ,j_const['b_{1}'],0).sum()\n",
    "b2 = np.where((Res < j_const['Reynolds_max']) & (Res < j_const['Reynolds_max']) & (j_const['Layout'] == 90) ,j_const['b_{2}'],0).sum()\n",
    "b3 = np.where((Res < j_const['Reynolds_max']) & (Res < j_const['Reynolds_max']) & (j_const['Layout'] == 90) ,j_const['b_{3}'],0).sum()\n",
    "b4 = np.where((Res < j_const['Reynolds_max']) & (Res < j_const['Reynolds_max']) & (j_const['Layout'] == 90) ,j_const['b_{4}'],0).sum()\n",
    "a = a3/(1+0.14*(Res**a4))\n",
    "b = b3/(1+0.14*(Res**b4))\n",
    "j = a1 * ((1.33/(tpitch/Do))**a)*(Res**a2)\n",
    "h_ideal = j*Cp_s*(m_s/(3600*As))*(k_s/(Cp_s*mu_s))**(2/3)\n",
    "\n"
   ]
  },
  {
   "cell_type": "code",
   "execution_count": null,
   "metadata": {},
   "outputs": [
    {
     "data": {
      "image/png": "[encoded data removed]",
      "text/plain": [
       "<Figure size 640x480 with 1 Axes>"
      ]
     },
     "metadata": {},
     "output_type": "display_data"
    }
   ],
   "source": [
    "import numpy as np\n",
    "import pandas as pd\n",
    "list1,list2 = [0,10,30,50,70,90,100],[160,176.7,193.3,206.7,222.8,242.8,248.9]\n",
    "a,b = [7.4012,4.9004,3.0305,0.8718,2.5282,3.0419,0.11798],[0.60244,0.71644,0.80076,1.0258,0.82002,0.75497,1.6606]\n",
    "list2 = [1.8*i+32 for i in list2]\n",
    "dict = {list1[i]: list2[i] for i in range(len(list1))}\n",
    "def convert_ASTM_to_TBP(astm,dict):\n",
    "    TBP = {}\n",
    "    if astm == 'ASTM_D86':\n",
    "        \n",
    "        TBP[50] = (0.8718*(dict[50])**1.0258)\n",
    "        \n",
    "        a_i,b_i = 4,4\n",
    "        for i in [70,90]:\n",
    "            j = i -20\n",
    "            \n",
    "            TBP_i = TBP[j] +a[a_i]*((dict[i]-dict[j]))**b[b_i]\n",
    "            TBP[i]= TBP_i\n",
    "            a_i +=1\n",
    "            b_i +=1\n",
    "        TBP[100]=TBP[90]+0.11798*(dict[100]-dict[90])**1.6606\n",
    "        a_i,b_i = 2,2\n",
    "        for i in [30,10]:\n",
    "            j = i + 20\n",
    "            \n",
    "            TBP_i = TBP[j] -a[a_i]*((dict[j]-dict[i]))**b[b_i]\n",
    "            TBP[i]= TBP_i\n",
    "            a_i -=1\n",
    "            b_i -=1\n",
    "        TBP[0]=TBP[10]-a[0]*(dict[10]-dict[0])**b[0]\n",
    "    keys = list(TBP.keys())\n",
    "    values = list(TBP.values())\n",
    "    sorted_value_index = np.argsort(values)\n",
    "    TBP = {keys[i]: values[i] for i in sorted_value_index}\n",
    "    return TBP\n",
    "\n",
    "\n",
    "TBP_dict = convert_ASTM_to_TBP('ASTM_D86',dict)\n",
    "import matplotlib.pyplot as plt\n",
    "\n",
    "plt.plot(TBP_dict.keys(),TBP_dict.values(), label= 'TBP')\n",
    "plt.scatter(x= dict.keys(), y= dict.values(), label= 'ASTM_D86')\n",
    "plt.legend()\n",
    "plt.show()\n"
   ]
  },
  {
   "cell_type": "code",
   "execution_count": null,
   "metadata": {},
   "outputs": [
    {
     "name": "stdout",
     "output_type": "stream",
     "text": [
      "210.69608391628017 96.8501813080738 402.7\n",
      "105.26237278903793\n",
      "5.532929771401653\n"
     ]
    },
    {
     "data": {
      "text/plain": [
       "290.8844703076448"
      ]
     },
     "execution_count": 88,
     "metadata": {},
     "output_type": "execute_result"
    }
   ],
   "source": [
    "import numpy as np\n",
    "import pandas as pd\n",
    "\n",
    "def convert_ASTM_to_TBP(astm,number):\n",
    "    number = number*1.8+32\n",
    "    TBP = 0\n",
    "    if astm == 'ASTM_D86':\n",
    "        TBP = ((0.8718*(number)**1.0258)-32)/1.8\n",
    "    if astm == 'ASTM_D2887':\n",
    "        TBP= (number-32)/1.8\n",
    "    if astm == 'ASTM_D2287':\n",
    "        TBP = ((0.77601*(number)**1.0395)-32)/1.8\n",
    "    if astm == 'ASTM_D1160':\n",
    "        TBP = (number-32)/1.8\n",
    "    return TBP\n",
    "print(convert_ASTM_to_TBP('ASTM_D86',206.7),convert_ASTM_to_TBP('ASTM_D2287',101.7),convert_ASTM_to_TBP('ASTM_D1160',402.7))\n",
    "\n",
    "def sg(API):\n",
    "    sg = 141.5/(131.5+API)\n",
    "    return sg \n",
    "def mol_wt(tb,sg):\n",
    "    mwt=4.567*(10**-5)*(tb**2.1962)*(sg**-1.0164)\n",
    "    return mwt\n",
    "def vis_tb(t,sg,tb):\n",
    "    t = t +273.15\n",
    "    tb = tb +273.15\n",
    "    api = (141.5/sg) - 131.5\n",
    "    b = np.exp(5.471+(0.00342*tb))\n",
    "    a = -0.0339*(api**0.188)+(0.241*(tb/t))\n",
    "    vis = a*np.exp(b/t)\n",
    "    return vis\n",
    "def vis_tb_mod(t,sg,tb):\n",
    "    t = t +273.15\n",
    "    tb = tb +273.15\n",
    "    api = (141.5/sg) - 131.5\n",
    "    a = -6.489436\n",
    "    b = -0.614916\n",
    "    c = -7.285711\n",
    "    d = 7.448011\n",
    "    e = 251.94553\n",
    "    ln_vis = a +(b*np.log(api)) + (c*np.log(tb/t)) + (d*(tb/t))+(e/t)\n",
    "    vis = np.exp(ln_vis)\n",
    "    return vis\n",
    "print(vis_tb(20,0.8394,convert_ASTM_to_TBP('ASTM_D86',283.2)))\n",
    "print(vis_tb_mod(20,0.8394,convert_ASTM_to_TBP('ASTM_D86',283.2)))\n",
    "convert_ASTM_to_TBP('ASTM_D86',283.2)"
   ]
  },
  {
   "cell_type": "code",
   "execution_count": 14,
   "metadata": {},
   "outputs": [
    {
     "data": {
      "text/plain": [
       "861.8767364831092"
      ]
     },
     "execution_count": 14,
     "metadata": {},
     "output_type": "execute_result"
    }
   ],
   "source": [
    "from scipy.constants import bar\n",
    "from thermo import ChemicalConstantsPackage, PRMIX, CEOSLiquid, CoolPropLiquid, CEOSGas, CoolPropGas, FlashPureVLS\n",
    "pressure = 100000\n",
    "temperature = 273.15\n",
    "fluid = 'water'\n",
    "constants, correlations = ChemicalConstantsPackage.from_IDs([fluid])\n",
    "T1 = temperature\n",
    "P1 = pressure\n",
    "#P2 = 1*bar\n",
    "zs = [1]\n",
    "backend = 'PR'\n",
    "gas = CoolPropGas(backend, fluid, T=T1, P=P1, zs=zs)\n",
    "liquid = CoolPropLiquid(backend, fluid, T=T1, P=P1, zs=zs)\n",
    "flasher = FlashPureVLS(constants, correlations, gas=gas, liquids=[liquid], solids=[])\n",
    "state_1 = flasher.flash(P=pressure, T=temperature,zs=zs)\n",
    "state_1.rho_mass()"
   ]
  },
  {
   "cell_type": "code",
   "execution_count": 15,
   "metadata": {},
   "outputs": [
    {
     "name": "stdout",
     "output_type": "stream",
     "text": [
      "[[0.0, 0.2937, 0.3], [0.2937, 0.0, 0.297], [0.3, 0.297, 0.0]]\n",
      "[[0.0, 624.8676222389441, 0], [-29.166654483541816, 0.0, 128.5016871766647], [0, 526.9694322798201, 0.0]]\n"
     ]
    },
    {
     "data": {
      "text/plain": [
       "[]"
      ]
     },
     "execution_count": 15,
     "metadata": {},
     "output_type": "execute_result"
    }
   ],
   "source": [
    "import numpy as np\n",
    "from thermo import *\n",
    "from chemicals import *\n",
    "from thermo.interaction_parameters import IPDB\n",
    "pressure = 100000\n",
    "temperature_k = 273.15\n",
    "lists = ['water','ethanol','benzene']#['methane', 'ethane', 'propane', 'isobutane', 'n-butane', 'isopentane','n-pentane', 'hexane', 'heptane', 'octane', 'nonane', 'nitrogen']\n",
    "constants, properties = ChemicalConstantsPackage.from_IDs(lists)\n",
    "T, P = temperature_k, 5e6\n",
    "zs = [0.8,0.2]#[.8, .08, .032, .00963, .0035, .0034, .0003, .0007, .0004, .00005, .00002, .07]\n",
    "eos_kwargs = dict(Tcs=constants.Tcs, Pcs=constants.Pcs, omegas=constants.omegas)\n",
    "gas = IAPWS95Gas(T=temperature_k, P=pressure, zs=zs) #CEOSGas(SRKMIX, eos_kwargs, HeatCapacityGases=properties.HeatCapacityGases, T=T,P=P, zs=zs)\n",
    "liq = IAPWS95Liquid(T=temperature_k, P=pressure, zs=zs) #CEOSLiquid(SRKMIX, eos_kwargs, HeatCapacityGases=properties.HeatCapacityGases, T=T, P=P, zs=zs)\n",
    "\n",
    "# Set up a two-phase flash engine, ignoring kijs\n",
    "flasher = FlashPureVLS(constants, properties, liquids=[liq], gas=gas, solids=[])\n",
    "# Set a composition - it could be modified in the inner loop as well\n",
    "# Do a test flash\n",
    "flasher.flash(T=T, P=P, zs=zs).MW()\n",
    "print(IPDB.get_ip_asymmetric_matrix('ChemSep NRTL', constants.CASs, 'alphaij'))\n",
    "print(IPDB.get_ip_asymmetric_matrix(name='ChemSep NRTL',CASs= constants.CASs, ip='bij'))\n",
    "\n",
    "IPDB.get_tables_with_type('NRTL') #.get_parameter_vector(parametername='ChemSep NRTL',CASs= constants.CASs, ip='cij')"
   ]
  },
  {
   "cell_type": "code",
   "execution_count": null,
   "metadata": {},
   "outputs": [],
   "source": []
  },
  {
   "cell_type": "code",
   "execution_count": 16,
   "metadata": {},
   "outputs": [
    {
     "data": {
      "text/plain": [
       "[[0, -526.02, -309.64], [318.06, 0, 91.532], [-1325.1, -302.57, 0]]"
      ]
     },
     "execution_count": 16,
     "metadata": {},
     "output_type": "execute_result"
    }
   ],
   "source": [
    "tausB = [[0, 526.02, 309.64], [-318.06, 0, -91.532], [1325.1, 302.57, 0]]\n",
    "\n",
    "tausB = [[-v for v in r] for r in tausB]\n",
    "tausB"
   ]
  },
  {
   "cell_type": "code",
   "execution_count": 17,
   "metadata": {},
   "outputs": [
    {
     "name": "stdout",
     "output_type": "stream",
     "text": [
      "(288.15, -36094.91305341924, 880.6461185326958, 80.91715600282116)\n"
     ]
    }
   ],
   "source": [
    "#!/usr/bin/env python\n",
    "\n",
    "from thermo import ChemicalConstantsPackage, PRMIX, CEOSGas, FlashVL, \\\n",
    "    EquilibriumState, GibbsExcessLiquid\n",
    "from thermo.interaction_parameters import IPDB\n",
    "from thermo.nrtl import NRTL\n",
    "from thermo import ChemicalConstantsPackage, PRMIX, CEOSLiquid, CEOSGas, FlashPureVLS,IAPWS95Gas,IAPWS95Liquid\n",
    "import decimal\n",
    "decimal.getcontext().prec = 100\n",
    "\n",
    "liquid_list = ['water', 'ethanol', 'methanol',  'propylene glycol', 'benzene', 'toluene', 'xylene', 'ethylene glycol', 'diethylene glycol','isopropyl alcohol', 'methyl ethyl ketone', 'dimethylamine']#,  'triethanolamine']#'methyldiethanolamine']\n",
    "#liquid_list = ['water', 'ethanol']\n",
    "liquid_list= ['water', 'ethanol', 'methanol', 'acetic acid', 'propylene glycol', 'glycerol', 'dimethyl sulfoxide', 'benzene', 'toluene', 'xylene', 'acetone', 'butanol', 'pentanol', 'hexanol', 'heptanol', 'octanol', 'nonanol', 'decanol', 'ethylene glycol', 'diethylene glycol', 'propylene carbonate', 'tetrahydrofuran', 'acetonitrile', 'formamide', 'isopropyl alcohol', 'methyl ethyl ketone', 'dioxane', 'pyridine', 'dimethylamine', 'diethylamine', 'triethylamine', 'trimethylamine', 'ethanolamine', 'diethanolamine', 'triethanolamine', 'methyldiethanolamine']\n",
    "import pandas as pd\n",
    "import numpy as np\n",
    "\n",
    "if zs is None:\n",
    "    zs = [1.0/len(liquid_list)] * len(liquid_list)\n",
    "consts, props = ChemicalConstantsPackage.from_IDs(liquid_list)\n",
    "kijs = IPDB.get_ip_asymmetric_matrix('ChemSep PR', consts.CASs, 'kij')\n",
    "eos_kwargs = {'Pcs': consts.Pcs, 'Tcs': consts.Tcs, 'omegas': consts.omegas, 'kijs': kijs}\n",
    "gas = CEOSGas(PRMIX, eos_kwargs=eos_kwargs, HeatCapacityGases=props.HeatCapacityGases)\n",
    "\n",
    "#a_consts = pd.read_csv('gibbs_constsaMod.csv',index_col=[0])\n",
    "tau_a =[[0.0,  624.8676222389441,  398.95345259688855,  0,  0,  0,  0,  0,  0,  0,  666.7541568707342,  1325.3268195999854,  0,  1505.222468698739,  0,  0,  0,  0,  0,  597.1859182768037,  0,  868.1028598337939,  0,  0,  0,  910.770391181574,  360.28465462814955,  923.4521776111364,  0,  690.5742547767117,  14310.123318400025,  0,  0,  0,  0,  0], [-29.166654483541816,  0.0,  -35.48160673137118,  -17.208648709010642,  0,  0,  0,  128.5016871766647,  272.9527161797593,  0,  188.88330093290168,  0,  0,  0,  0,  0,  0,  0,  827.3172688973923,  0,  0,  -100.99188300716756,  266.56882285584066,  0,  347.2915262732114,  220.00370525525247,  254.40952926791,  82.35967655984226,  186.57785096213044,  0,  -124.81892534270732,  0,  0,  0,  0,  0], [-95.13209282738782,  33.86174305303865,  0.0,  8.376843964387204,  0,  0,  -84.70100608335196,  383.3301467062124,  444.85764166217945,  0,  149.0753649061816,  399.46437138924983,  0,  0,  0,  0,  0,  0,  0,  0,  0,  85.25308823355346,  172.9586671855665,  310.7806846299752,  0,  154.70332184687842,  305.6580607448178,  -22.68956490201915,  -27.369204631837572,  0,  -239.96038551474652,  0,  0,  0,  0,  0], [0,  -96.00236068862058,  -109.26209475240638,  0.0,  0,  0,  0,  0,  0,  0,  0,  0,  0,  0,  0,  0,  0,  0,  0,  0,  0,  0,  0,  0,  0,  0,  0,  0,  0,  0,  0,  0,  0,  0,  0,  0], [0,  0,  0,  0,  0.0,  0,  0,  0,  0,  0,  0,  0,  0,  0,  0,  0,  0,  0,  0,  0,  0,  0,  0,  0,  0,  0,  0,  0,  0,  0,  0,  0,  0,  0,  0,  0], [0,  0,  0,  0,  0,  0.0,  0,  0,  0,  0,  0,  0,  0,  0,  0,  0,  0,  0,  0,  0,  0,  0,  0,  0,  0,  0,  0,  0,  0,  0,  0,  0,  0,  0,  0,  0], [0,  0,  -250.31000101630895,  0,  0,  0,  0.0,  205.59768741610984,  96.62021363185038,  0,  0,  0,  0,  0,  0,  0,  0,  0,  0,  0,  0,  0,  0,  0,  0,  0,  0,  0,  0,  0,  0,  0,  0,  0,  0,  0], [0,  526.9694322798201,  550.9527242805113,  0,  0,  0,  407.8815735602236,  0.0,  55.91559071838881,  0,  446.13949277986086,  0,  0,  0,  0,  0,  0,  0,  0,  0,  0,  0,  0,  0,  0,  452.09237857333784,  0,  272.2847928929465,  0,  -21.237323650295064,  65.72354071409316,  0,  0,  0,  0,  0], [0,  388.70659452406653,  507.24715167902986,  0,  0,  0,  535.0652281347483,  -61.012198153664315,  0.0,  0,  366.09734345959384,  0,  0,  0,  0,  0,  0,  0,  0,  0,  0,  0,  364.3789997185556,  0,  0,  -91.36116693116148,  0,  133.1734263598072,  0,  -77.4650111233598,  0,  0,  0,  0,  0,  0], [0,  0,  0,  0,  0,  0,  0,  0,  0,  0.0,  0,  0,  0,  0,  0,  0,  0,  0,  0,  0,  0,  0,  0,  0,  0,  0,  0,  0,  0,  0,  0,  0,  0,  0,  0,  0], [409.6929122710524,  22.831372166559106,  59.42031348139431,  0,  0,  0,  0,  -199.5232741052929,  -124.77288075539218,  0,  0.0,  0,  0,  0,  0,  0,  0,  0,  0,  0,  0,  0,  0,  0,  0,  0,  0,  0,  0,  0,  0,  0,  0,  0,  0,  0], [253.64181754760426,  0,  -244.73070540450144,  0,  0,  0,  0,  0,  0,  0,  0,  0.0,  0,  0,  0,  0,  0,  0,  0,  0,  0,  0,  0,  0,  0,  0,  0,  0,  0,  0,  0,  0,  0,  0,  0,  0], [0,  0,  0,  0,  0,  0,  0,  0,  0,  0,  0,  0,  0.0,  0,  0,  0,  0,  0,  0,  0,  0,  0,  0,  0,  0,  0,  0,  0,  0,  0,  0,  0,  0,  0,  0,  0], [-233.89915655570724,  0,  0,  0,  0,  0,  0,  0,  0,  0,  0,  0,  0,  0.0,  0,  0,  0,  0,  0,  0,  0,  0,  0,  0,  0,  0,  0,  0,  0,  0,  0,  0,  0,  0,  0,  0], [0,  0,  0,  0,  0,  0,  0,  0,  0,  0,  0,  0,  0,  0,  0.0,  0,  0,  0,  0,  0,  0,  0,  0,  0,  0,  0,  0,  0,  0,  0,  0,  0,  0,  0,  0,  0], [0,  0,  0,  0,  0,  0,  0,  0,  0,  0,  0,  0,  0,  0,  0,  0.0,  0,  0,  0,  0,  0,  0,  0,  0,  0,  0,  0,  0,  0,  0,  0,  0,  0,  0,  0,  0], [0,  0,  0,  0,  0,  0,  0,  0,  0,  0,  0,  0,  0,  0,  0,  0,  0.0,  0,  0,  0,  0,  0,  0,  0,  0,  0,  0,  0,  0,  0,  0,  0,  0,  0,  0,  0], [0,  0,  0,  0,  0,  0,  0,  0,  0,  0,  0,  0,  0,  0,  0,  0,  0,  0.0,  0,  0,  0,  0,  0,  0,  0,  0,  0,  0,  0,  0,  0,  0,  0,  0,  0,  0], [0,  -102.54059144346337,  0,  0,  0,  0,  0,  0,  0,  0,  0,  0,  0,  0,  0,  0,  0,  0,  0.0,  0,  0,  0,  0,  0,  0,  0,  0,  0,  0,  0,  0,  0,  0,  0,  0,  0], [-50.27163139652671,  0,  0,  0,  0,  0,  0,  0,  0,  0,  0,  0,  0,  0,  0,  0,  0,  0,  0,  0.0,  0,  0,  0,  0,  0,  0,  0,  0,  0,  0,  0,  0,  0,  0,  0,  0], [0,  0,  0,  0,  0,  0,  0,  0,  0,  0,  0,  0,  0,  0,  0,  0,  0,  0,  0,  0,  0.0,  0,  0,  0,  0,  0,  0,  0,  0,  0,  0,  0,  0,  0,  0,  0], [460.8207717038273,  332.81470544570556,  192.81253969436676,  0,  0,  0,  0,  0,  0,  0,  0,  0,  0,  0,  0,  0,  0,  0,  0,  0,  0,  0.0,  0,  0,  0,  0,  0,  0,  0,  0,  0,  0,  0,  0,  0,  0], [0,  170.17032775044984,  158.3067762823564,  0,  0,  0,  0,  0,  397.9082656258116,  0,  0,  0,  0,  0,  0,  0,  0,  0,  0,  0,  0,  0,  0.0,  0,  0,  0,  0,  0,  0,  0,  0,  0,  0,  0,  0,  0], [0,  0,  -77.22885019628885,  0,  0,  0,  0,  0,  0,  0,  0,  0,  0,  0,  0,  0,  0,  0,  0,  0,  0,  0,  0,  0.0,  0,  0,  0,  0,  0,  0,  0,  0,  0,  0,  0,  0], [0,  -266.3778510428779,  0,  0,  0,  0,  0,  0,  0,  0,  0,  0,  0,  0,  0,  0,  0,  0,  0,  0,  0,  0,  0,  0,  0.0,  0,  0,  0,  0,  0,  0,  0,  0,  0,  0,  0], [339.4021510709245,  16.926443194624536,  109.65646790080935,  0,  0,  0,  0,  -324.5047896792737,  253.15651262949805,  0,  0,  0,  0,  0,  0,  0,  0,  0,  0,  0,  0,  0,  0,  0,  0,  0.0,  0,  0,  0,  0,  0,  0,  0,  0,  0,  0], [276.21544066910525,  56.27951908501512,  38.631308113493304,  0,  0,  0,  0,  0,  0,  0,  0,  0,  0,  0,  0,  0,  0,  0,  0,  0,  0,  0,  0,  0,  0,  0,  0.0,  0,  0,  0,  0,  0,  0,  0,  0,  0], [211.25593817272332,  -85.53735694802691,  42.36887055464869,  0,  0,  0,  0,  -160.9460620916507,  -30.365424056242578,  0,  0,  0,  0,  0,  0,  0,  0,  0,  0,  0,  0,  0,  0,  0,  0,  0,  0,  0.0,  0,  0,  0,  0,  0,  0,  0,  0], [0,  -616.2295066927643,  -512.3494454950339,  0,  0,  0,  0,  0,  0,  0,  0,  0,  0,  0,  0,  0,  0,  0,  0,  0,  0,  0,  0,  0,  0,  0,  0,  0,  0.0,  0,  0,  0,  0,  0,  0,  0], [-85.12723302822542,  0,  0,  0,  0,  0,  0,  26.344146442100588,  46.03718998799464,  0,  0,  0,  0,  0,  0,  0,  0,  0,  0,  0,  0,  0,  0,  0,  0,  0,  0,  0,  0,  0.0,  0,  0,  0,  0,  0,  0], [-2564.672442623398,  351.1971137166021,  566.6827127122892,  0,  0,  0,  0,  -13.75268791880117,  0,  0,  0,  0,  0,  0,  0,  0,  0,  0,  0,  0,  0,  0,  0,  0,  0,  0,  0,  0,  0,  0,  0.0,  0,  0,  0,  0,  0], [0,  0,  0,  0,  0,  0,  0,  0,  0,  0,  0,  0,  0,  0,  0,  0,  0,  0,  0,  0,  0,  0,  0,  0,  0,  0,  0,  0,  0,  0,  0,  0.0,  0,  0,  0,  0], [0,  0,  0,  0,  0,  0,  0,  0,  0,  0,  0,  0,  0,  0,  0,  0,  0,  0,  0,  0,  0,  0,  0,  0,  0,  0,  0,  0,  0,  0,  0,  0,  0.0,  0,  0,  0], [0,  0,  0,  0,  0,  0,  0,  0,  0,  0,  0,  0,  0,  0,  0,  0,  0,  0,  0,  0,  0,  0,  0,  0,  0,  0,  0,  0,  0,  0,  0,  0,  0,  0.0,  0,  0], [0,  0,  0,  0,  0,  0,  0,  0,  0,  0,  0,  0,  0,  0,  0,  0,  0,  0,  0,  0,  0,  0,  0,  0,  0,  0,  0,  0,  0,  0,  0,  0,  0,  0,  0.0,  0], [0,  0,  0,  0,  0,  0,  0,  0,  0,  0,  0,  0,  0,  0,  0,  0,  0,  0,  0,  0,  0,  0,  0,  0,  0,  0,  0,  0,  0,  0,  0,  0,  0,  0,  0,  0.0]]\n",
    "#alpha_consts = IPDB.get_ip_asymmetric_matrix('ChemSep NRTL', consts.CASs, 'alphaij')\n",
    "alpha_c = [[0.0,  0.2937,  0.2999,  0.3,  0.3,  0.3,  0.3,  0.3,  0.3,  0.3,  0.5663,  0.4447,  0.3,  0.1563,  0.3,  0.3,  0.3,  0.3,  0.3,  0.2974,  0.3,  0.4522,  0.3,  0.3,  0.3,  0.3536,  0.292,  0.6802,  0.3,  0.2932,  0.0381,  0.3,  0.3,  0.3,  0.3,  0.3], [0.2937,  0.0,  0.3009,  0.305,  0.3,  0.3,  0.3,  0.297,  0.2937,  0.3,  0.3006,  0.3,  0.3,  0.3,  0.3,  0.3,  0.3,  0.3,  0.3704,  0.3,  0.3,  0.3015,  0.2964,  0.3,  0.3125,  0.3022,  0.2988,  0.3017,  0.3105,  0.3,  0.2996,  0.3,  0.3,  0.3,  0.3,  0.3], [0.2999,  0.3009,  0.0,  0.3051,  0.3,  0.3,  0.3079,  0.4893,  0.4064,  0.3,  0.3003,  0.2483,  0.3,  0.3,  0.3,  0.3,  0.3,  0.3,  0.3,  0.3,  0.3,  0.3002,  0.2981,  0.3003,  0.3,  0.3003,  0.2985,  0.3027,  0.3134,  0.3,  0.2874,  0.3,  0.3,  0.3,  0.3,  0.3], [0.3,  0.305,  0.3051,  0.0,  0.3,  0.3,  0.3,  0.3,  0.3,  0.3,  0.3,  0.3,  0.3,  0.3,  0.3,  0.3,  0.3,  0.3,  0.3,  0.3,  0.3,  0.3,  0.3,  0.3,  0.3,  0.3,  0.3,  0.3,  0.3,  0.3,  0.3,  0.3,  0.3,  0.3,  0.3,  0.3], [0.3,  0.3,  0.3,  0.3,  0.0,  0.3,  0.3,  0.3,  0.3,  0.3,  0.3,  0.3,  0.3,  0.3,  0.3,  0.3,  0.3,  0.3,  0.3,  0.3,  0.3,  0.3,  0.3,  0.3,  0.3,  0.3,  0.3,  0.3,  0.3,  0.3,  0.3,  0.3,  0.3,  0.3,  0.3,  0.3], [0.3,  0.3,  0.3,  0.3,  0.3,  0.0,  0.3,  0.3,  0.3,  0.3,  0.3,  0.3,  0.3,  0.3,  0.3,  0.3,  0.3,  0.3,  0.3,  0.3,  0.3,  0.3,  0.3,  0.3,  0.3,  0.3,  0.3,  0.3,  0.3,  0.3,  0.3,  0.3,  0.3,  0.3,  0.3,  0.3], [0.3,  0.3,  0.3079,  0.3,  0.3,  0.3,  0.0,  0.6691,  0.2898,  0.3,  0.3,  0.3,  0.3,  0.3,  0.3,  0.3,  0.3,  0.3,  0.3,  0.3,  0.3,  0.3,  0.3,  0.3,  0.3,  0.3,  0.3,  0.3,  0.3,  0.3,  0.3,  0.3,  0.3,  0.3,  0.3,  0.3], [0.3,  0.297,  0.4893,  0.3,  0.3,  0.3,  0.6691,  0.0,  0.3033,  0.3,  0.2971,  0.3,  0.3,  0.3,  0.3,  0.3,  0.3,  0.3,  0.3,  0.3,  0.3,  0.3,  0.3,  0.3,  0.3,  0.1563,  0.3,  0.2795,  0.3,  0.2813,  0.3037,  0.3,  0.3,  0.3,  0.3,  0.3], [0.3,  0.2937,  0.4064,  0.3,  0.3,  0.3,  0.2898,  0.3033,  0.0,  0.3,  0.295,  0.3,  0.3,  0.3,  0.3,  0.3,  0.3,  0.3,  0.3,  0.3,  0.3,  0.3,  0.9353,  0.3,  0.3,  0.2996,  0.3,  0.2992,  0.3,  5.1012,  0.3,  0.3,  0.3,  0.3,  0.3,  0.3], [0.3,  0.3,  0.3,  0.3,  0.3,  0.3,  0.3,  0.3,  0.3,  0.0,  0.3,  0.3,  0.3,  0.3,  0.3,  0.3,  0.3,  0.3,  0.3,  0.3,  0.3,  0.3,  0.3,  0.3,  0.3,  0.3,  0.3,  0.3,  0.3,  0.3,  0.3,  0.3,  0.3,  0.3,  0.3,  0.3], [0.5663,  0.3006,  0.3003,  0.3,  0.3,  0.3,  0.3,  0.2971,  0.295,  0.3,  0.0,  0.3,  0.3,  0.3,  0.3,  0.3,  0.3,  0.3,  0.3,  0.3,  0.3,  0.3,  0.3,  0.3,  0.3,  0.3,  0.3,  0.3,  0.3,  0.3,  0.3,  0.3,  0.3,  0.3,  0.3,  0.3], [0.4447,  0.3,  0.2483,  0.3,  0.3,  0.3,  0.3,  0.3,  0.3,  0.3,  0.3,  0.0,  0.3,  0.3,  0.3,  0.3,  0.3,  0.3,  0.3,  0.3,  0.3,  0.3,  0.3,  0.3,  0.3,  0.3,  0.3,  0.3,  0.3,  0.3,  0.3,  0.3,  0.3,  0.3,  0.3,  0.3], [0.3,  0.3,  0.3,  0.3,  0.3,  0.3,  0.3,  0.3,  0.3,  0.3,  0.3,  0.3,  0.0,  0.3,  0.3,  0.3,  0.3,  0.3,  0.3,  0.3,  0.3,  0.3,  0.3,  0.3,  0.3,  0.3,  0.3,  0.3,  0.3,  0.3,  0.3,  0.3,  0.3,  0.3,  0.3,  0.3], [0.1563,  0.3,  0.3,  0.3,  0.3,  0.3,  0.3,  0.3,  0.3,  0.3,  0.3,  0.3,  0.3,  0.0,  0.3,  0.3,  0.3,  0.3,  0.3,  0.3,  0.3,  0.3,  0.3,  0.3,  0.3,  0.3,  0.3,  0.3,  0.3,  0.3,  0.3,  0.3,  0.3,  0.3,  0.3,  0.3], [0.3,  0.3,  0.3,  0.3,  0.3,  0.3,  0.3,  0.3,  0.3,  0.3,  0.3,  0.3,  0.3,  0.3,  0.0,  0.3,  0.3,  0.3,  0.3,  0.3,  0.3,  0.3,  0.3,  0.3,  0.3,  0.3,  0.3,  0.3,  0.3,  0.3,  0.3,  0.3,  0.3,  0.3,  0.3,  0.3], [0.3,  0.3,  0.3,  0.3,  0.3,  0.3,  0.3,  0.3,  0.3,  0.3,  0.3,  0.3,  0.3,  0.3,  0.3,  0.0,  0.3,  0.3,  0.3,  0.3,  0.3,  0.3,  0.3,  0.3,  0.3,  0.3,  0.3,  0.3,  0.3,  0.3,  0.3,  0.3,  0.3,  0.3,  0.3,  0.3], [0.3,  0.3,  0.3,  0.3,  0.3,  0.3,  0.3,  0.3,  0.3,  0.3,  0.3,  0.3,  0.3,  0.3,  0.3,  0.3,  0.0,  0.3,  0.3,  0.3,  0.3,  0.3,  0.3,  0.3,  0.3,  0.3,  0.3,  0.3,  0.3,  0.3,  0.3,  0.3,  0.3,  0.3,  0.3,  0.3], [0.3,  0.3,  0.3,  0.3,  0.3,  0.3,  0.3,  0.3,  0.3,  0.3,  0.3,  0.3,  0.3,  0.3,  0.3,  0.3,  0.3,  0.0,  0.3,  0.3,  0.3,  0.3,  0.3,  0.3,  0.3,  0.3,  0.3,  0.3,  0.3,  0.3,  0.3,  0.3,  0.3,  0.3,  0.3,  0.3], [0.3,  0.3704,  0.3,  0.3,  0.3,  0.3,  0.3,  0.3,  0.3,  0.3,  0.3,  0.3,  0.3,  0.3,  0.3,  0.3,  0.3,  0.3,  0.0,  0.3,  0.3,  0.3,  0.3,  0.3,  0.3,  0.3,  0.3,  0.3,  0.3,  0.3,  0.3,  0.3,  0.3,  0.3,  0.3,  0.3], [0.2974,  0.3,  0.3,  0.3,  0.3,  0.3,  0.3,  0.3,  0.3,  0.3,  0.3,  0.3,  0.3,  0.3,  0.3,  0.3,  0.3,  0.3,  0.3,  0.0,  0.3,  0.3,  0.3,  0.3,  0.3,  0.3,  0.3,  0.3,  0.3,  0.3,  0.3,  0.3,  0.3,  0.3,  0.3,  0.3], [0.3,  0.3,  0.3,  0.3,  0.3,  0.3,  0.3,  0.3,  0.3,  0.3,  0.3,  0.3,  0.3,  0.3,  0.3,  0.3,  0.3,  0.3,  0.3,  0.3,  0.0,  0.3,  0.3,  0.3,  0.3,  0.3,  0.3,  0.3,  0.3,  0.3,  0.3,  0.3,  0.3,  0.3,  0.3,  0.3], [0.4522,  0.3015,  0.3002,  0.3,  0.3,  0.3,  0.3,  0.3,  0.3,  0.3,  0.3,  0.3,  0.3,  0.3,  0.3,  0.3,  0.3,  0.3,  0.3,  0.3,  0.3,  0.0,  0.3,  0.3,  0.3,  0.3,  0.3,  0.3,  0.3,  0.3,  0.3,  0.3,  0.3,  0.3,  0.3,  0.3], [0.3,  0.2964,  0.2981,  0.3,  0.3,  0.3,  0.3,  0.3,  0.9353,  0.3,  0.3,  0.3,  0.3,  0.3,  0.3,  0.3,  0.3,  0.3,  0.3,  0.3,  0.3,  0.3,  0.0,  0.3,  0.3,  0.3,  0.3,  0.3,  0.3,  0.3,  0.3,  0.3,  0.3,  0.3,  0.3,  0.3], [0.3,  0.3,  0.3003,  0.3,  0.3,  0.3,  0.3,  0.3,  0.3,  0.3,  0.3,  0.3,  0.3,  0.3,  0.3,  0.3,  0.3,  0.3,  0.3,  0.3,  0.3,  0.3,  0.3,  0.0,  0.3,  0.3,  0.3,  0.3,  0.3,  0.3,  0.3,  0.3,  0.3,  0.3,  0.3,  0.3], [0.3,  0.3125,  0.3,  0.3,  0.3,  0.3,  0.3,  0.3,  0.3,  0.3,  0.3,  0.3,  0.3,  0.3,  0.3,  0.3,  0.3,  0.3,  0.3,  0.3,  0.3,  0.3,  0.3,  0.3,  0.0,  0.3,  0.3,  0.3,  0.3,  0.3,  0.3,  0.3,  0.3,  0.3,  0.3,  0.3], [0.3536,  0.3022,  0.3003,  0.3,  0.3,  0.3,  0.3,  0.1563,  0.2996,  0.3,  0.3,  0.3,  0.3,  0.3,  0.3,  0.3,  0.3,  0.3,  0.3,  0.3,  0.3,  0.3,  0.3,  0.3,  0.3,  0.0,  0.3,  0.3,  0.3,  0.3,  0.3,  0.3,  0.3,  0.3,  0.3,  0.3], [0.292,  0.2988,  0.2985,  0.3,  0.3,  0.3,  0.3,  0.3,  0.3,  0.3,  0.3,  0.3,  0.3,  0.3,  0.3,  0.3,  0.3,  0.3,  0.3,  0.3,  0.3,  0.3,  0.3,  0.3,  0.3,  0.3,  0.0,  0.3,  0.3,  0.3,  0.3,  0.3,  0.3,  0.3,  0.3,  0.3], [0.6802,  0.3017,  0.3027,  0.3,  0.3,  0.3,  0.3,  0.2795,  0.2992,  0.3,  0.3,  0.3,  0.3,  0.3,  0.3,  0.3,  0.3,  0.3,  0.3,  0.3,  0.3,  0.3,  0.3,  0.3,  0.3,  0.3,  0.3,  0.0,  0.3,  0.3,  0.3,  0.3,  0.3,  0.3,  0.3,  0.3], [0.3,  0.3105,  0.3134,  0.3,  0.3,  0.3,  0.3,  0.3,  0.3,  0.3,  0.3,  0.3,  0.3,  0.3,  0.3,  0.3,  0.3,  0.3,  0.3,  0.3,  0.3,  0.3,  0.3,  0.3,  0.3,  0.3,  0.3,  0.3,  0.0,  0.3,  0.3,  0.3,  0.3,  0.3,  0.3,  0.3], [0.2932,  0.3,  0.3,  0.3,  0.3,  0.3,  0.3,  0.2813,  5.1012,  0.3,  0.3,  0.3,  0.3,  0.3,  0.3,  0.3,  0.3,  0.3,  0.3,  0.3,  0.3,  0.3,  0.3,  0.3,  0.3,  0.3,  0.3,  0.3,  0.3,  0.0,  0.3,  0.3,  0.3,  0.3,  0.3,  0.3], [0.0381,  0.2996,  0.2874,  0.3,  0.3,  0.3,  0.3,  0.3037,  0.3,  0.3,  0.3,  0.3,  0.3,  0.3,  0.3,  0.3,  0.3,  0.3,  0.3,  0.3,  0.3,  0.3,  0.3,  0.3,  0.3,  0.3,  0.3,  0.3,  0.3,  0.3,  0.0,  0.3,  0.3,  0.3,  0.3,  0.3], [0.3,  0.3,  0.3,  0.3,  0.3,  0.3,  0.3,  0.3,  0.3,  0.3,  0.3,  0.3,  0.3,  0.3,  0.3,  0.3,  0.3,  0.3,  0.3,  0.3,  0.3,  0.3,  0.3,  0.3,  0.3,  0.3,  0.3,  0.3,  0.3,  0.3,  0.3,  0.0,  0.3,  0.3,  0.3,  0.3], [0.3,  0.3,  0.3,  0.3,  0.3,  0.3,  0.3,  0.3,  0.3,  0.3,  0.3,  0.3,  0.3,  0.3,  0.3,  0.3,  0.3,  0.3,  0.3,  0.3,  0.3,  0.3,  0.3,  0.3,  0.3,  0.3,  0.3,  0.3,  0.3,  0.3,  0.3,  0.3,  0.0,  0.3,  0.3,  0.3], [0.3,  0.3,  0.3,  0.3,  0.3,  0.3,  0.3,  0.3,  0.3,  0.3,  0.3,  0.3,  0.3,  0.3,  0.3,  0.3,  0.3,  0.3,  0.3,  0.3,  0.3,  0.3,  0.3,  0.3,  0.3,  0.3,  0.3,  0.3,  0.3,  0.3,  0.3,  0.3,  0.3,  0.0,  0.3,  0.3], [0.3,  0.3,  0.3,  0.3,  0.3,  0.3,  0.3,  0.3,  0.3,  0.3,  0.3,  0.3,  0.3,  0.3,  0.3,  0.3,  0.3,  0.3,  0.3,  0.3,  0.3,  0.3,  0.3,  0.3,  0.3,  0.3,  0.3,  0.3,  0.3,  0.3,  0.3,  0.3,  0.3,  0.3,  0.0,  0.3], [0.3,  0.3,  0.3,  0.3,  0.3,  0.3,  0.3,  0.3,  0.3,  0.3,  0.3,  0.3,  0.3,  0.3,  0.3,  0.3,  0.3,  0.3,  0.3,  0.3,  0.3,  0.3,  0.3,  0.3,  0.3,  0.3,  0.3,  0.3,  0.3,  0.3,  0.3,  0.3,  0.3,  0.3,  0.3,  0.0]]\n",
    "tau_b = np.zeros_like(tau_a)\n",
    "\n",
    "T = 298.15\n",
    "P = 101325\n",
    "\"\"\"Build NRTL.\"\"\"\n",
    "tau_as = tau_a\n",
    "tau_bs = tau_b\n",
    "alpha_cs = alpha_c\n",
    "\n",
    "NRTL(T=T, xs=zs, tau_as=tau_as, alpha_cs=alpha_cs)\n",
    "\n",
    "\n",
    "\n",
    "    \n",
    "\"\"\"Build NRTL flasher.\"\"\"\n",
    "if zs is None:\n",
    "    zs = [1.0/len(liquid_list)] * len(liquid_list)\n",
    "consts, props = ChemicalConstantsPackage.from_IDs(liquid_list)\n",
    "kijs = IPDB.get_ip_asymmetric_matrix('ChemSep PR', consts.CASs, 'kij')\n",
    "eos_kwargs = {'Pcs': consts.Pcs, 'Tcs': consts.Tcs, 'omegas': consts.omegas, 'kijs': kijs}\n",
    "gas = CEOSGas(PRMIX, eos_kwargs=eos_kwargs, HeatCapacityGases=props.HeatCapacityGases)\n",
    "\n",
    "nrtl = NRTL(T=T, xs=zs, tau_as=tau_as, alpha_cs=alpha_cs)\n",
    "liquid = GibbsExcessLiquid(\n",
    "    VaporPressures=props.VaporPressures,\n",
    "    HeatCapacityGases=props.HeatCapacityGases,\n",
    "    VolumeLiquids=props.VolumeLiquids,\n",
    "    GibbsExcessModel=nrtl,\n",
    "    equilibrium_basis='Psat', caloric_basis='Psat',\n",
    "    T=T, P=P, zs=zs)\n",
    "\n",
    "\n",
    "\"\"\"Run.\"\"\"\n",
    "\n",
    "\n",
    "flasher = FlashPureVLS(consts, props, liquids=[liquid], gas=gas, solids=[])\n",
    "\n",
    "temp = 273.15+15  # this guess is accurate\n",
    "pres = 1.013* (10**5) #*98066.5\n",
    "mole_fractions = {'benzene':0.8,'toluene':0.2}\n",
    "zs = [mole_fractions[i] if i in mole_fractions.keys() else 0.000000000001 for i in liquid_list]\n",
    "res = flasher.flash(zs=zs, P=pres, T=temp)  # use hot_start for speed\n",
    "print((res.T, res.H(), res.rho_mass(),res.MW()))\n"
   ]
  },
  {
   "cell_type": "code",
   "execution_count": 20,
   "metadata": {},
   "outputs": [],
   "source": [
    "\n",
    "gases_list = ['water', 'hydrogen', 'nitrogen', 'carbon dioxide', 'hydrogen sulfide','methane',\n",
    "'ethane', 'propane', 'isobutane', 'n-butane', 'isopentane', 'n-pentane', 'hexane',\n",
    "'heptane', 'octane', 'nonane']\n",
    "liquid_list= ['water', 'ethanol', 'methanol', 'acetic acid', 'propylene glycol', 'glycerol', 'dimethyl sulfoxide', 'benzene', 'toluene', 'xylene', 'acetone', 'butanol', 'pentanol', 'hexanol', 'heptanol', 'octanol', 'nonanol', 'decanol', 'ethylene glycol', 'diethylene glycol', 'propylene carbonate', 'tetrahydrofuran', 'acetonitrile', 'formamide', 'isopropyl alcohol', 'methyl ethyl ketone', 'dioxane', 'pyridine', 'dimethylamine', 'diethylamine', 'triethylamine', 'trimethylamine', 'ethanolamine', 'diethanolamine', 'triethanolamine', 'methyldiethanolamine']\n",
    "c = gases_list + liquid_list\n",
    "consts, props = ChemicalConstantsPackage.from_IDs(c)\n",
    "tau_as = IPDB.get_ip_asymmetric_matrix('ChemSep NRTL', consts.CASs, 'alphaij')\n",
    "alpha_cs = IPDB.get_ip_asymmetric_matrix(name='ChemSep NRTL',CASs= consts.CASs, ip='bij')\n"
   ]
  },
  {
   "cell_type": "code",
   "execution_count": 50,
   "metadata": {},
   "outputs": [
    {
     "name": "stdout",
     "output_type": "stream",
     "text": [
      "(288.15, -44539.50915888152, 908.9003095537465, 23.625912002927297)\n"
     ]
    }
   ],
   "source": [
    "#!/usr/bin/env python\n",
    "\n",
    "from thermo import ChemicalConstantsPackage, PRMIX, CEOSGas, FlashVL, \\\n",
    "    EquilibriumState, GibbsExcessLiquid\n",
    "from thermo.interaction_parameters import IPDB\n",
    "from thermo.nrtl import NRTL\n",
    "from thermo import ChemicalConstantsPackage, PRMIX, CEOSLiquid, CEOSGas, FlashPureVLS,IAPWS95Gas,IAPWS95Liquid\n",
    "import decimal\n",
    "decimal.getcontext().prec = 100\n",
    "\n",
    "liquid_list = ['water', 'ethanol', 'methanol',  'propylene glycol', 'benzene', 'toluene', 'xylene', 'ethylene glycol', 'diethylene glycol','isopropyl alcohol', 'methyl ethyl ketone', 'dimethylamine']#,  'triethanolamine']#'methyldiethanolamine']\n",
    "#liquid_list = ['water', 'ethanol']\n",
    "liquid_list= ['water', 'ethanol', 'methanol', 'acetic acid', 'propylene glycol', 'glycerol', 'dimethyl sulfoxide', 'benzene', 'toluene', 'xylene', 'acetone', 'butanol', 'pentanol', 'hexanol', 'heptanol', 'octanol', 'nonanol', 'decanol', 'ethylene glycol', 'diethylene glycol', 'propylene carbonate', 'tetrahydrofuran', 'acetonitrile', 'formamide', 'isopropyl alcohol', 'methyl ethyl ketone', 'dioxane', 'pyridine', 'dimethylamine', 'diethylamine', 'triethylamine', 'trimethylamine', 'ethanolamine', 'diethanolamine', 'triethanolamine', 'methyldiethanolamine']\n",
    "import pandas as pd\n",
    "import numpy as np\n",
    "\n",
    "if zs is None:\n",
    "    zs = [1.0/len(liquid_list)] * len(liquid_list)\n",
    "consts, props = ChemicalConstantsPackage.from_IDs(liquid_list)\n",
    "kijs = IPDB.get_ip_asymmetric_matrix('ChemSep PR', consts.CASs, 'kij')\n",
    "eos_kwargs = {'Pcs': consts.Pcs, 'Tcs': consts.Tcs, 'omegas': consts.omegas, 'kijs': kijs}\n",
    "gas = CEOSGas(PRMIX, eos_kwargs=eos_kwargs, HeatCapacityGases=props.HeatCapacityGases)\n",
    "\n",
    "#a_consts = pd.read_csv('gibbs_constsaMod.csv',index_col=[0])\n",
    "#tau_a =[[0.0,  624.8676222389441,  398.95345259688855,  0,  0,  0,  0,  0,  0,  0,  666.7541568707342,  1325.3268195999854,  0,  1505.222468698739,  0,  0,  0,  0,  0,  597.1859182768037,  0,  868.1028598337939,  0,  0,  0,  910.770391181574,  360.28465462814955,  923.4521776111364,  0,  690.5742547767117,  14310.123318400025,  0,  0,  0,  0,  0], [-29.166654483541816,  0.0,  -35.48160673137118,  -17.208648709010642,  0,  0,  0,  128.5016871766647,  272.9527161797593,  0,  188.88330093290168,  0,  0,  0,  0,  0,  0,  0,  827.3172688973923,  0,  0,  -100.99188300716756,  266.56882285584066,  0,  347.2915262732114,  220.00370525525247,  254.40952926791,  82.35967655984226,  186.57785096213044,  0,  -124.81892534270732,  0,  0,  0,  0,  0], [-95.13209282738782,  33.86174305303865,  0.0,  8.376843964387204,  0,  0,  -84.70100608335196,  383.3301467062124,  444.85764166217945,  0,  149.0753649061816,  399.46437138924983,  0,  0,  0,  0,  0,  0,  0,  0,  0,  85.25308823355346,  172.9586671855665,  310.7806846299752,  0,  154.70332184687842,  305.6580607448178,  -22.68956490201915,  -27.369204631837572,  0,  -239.96038551474652,  0,  0,  0,  0,  0], [0,  -96.00236068862058,  -109.26209475240638,  0.0,  0,  0,  0,  0,  0,  0,  0,  0,  0,  0,  0,  0,  0,  0,  0,  0,  0,  0,  0,  0,  0,  0,  0,  0,  0,  0,  0,  0,  0,  0,  0,  0], [0,  0,  0,  0,  0.0,  0,  0,  0,  0,  0,  0,  0,  0,  0,  0,  0,  0,  0,  0,  0,  0,  0,  0,  0,  0,  0,  0,  0,  0,  0,  0,  0,  0,  0,  0,  0], [0,  0,  0,  0,  0,  0.0,  0,  0,  0,  0,  0,  0,  0,  0,  0,  0,  0,  0,  0,  0,  0,  0,  0,  0,  0,  0,  0,  0,  0,  0,  0,  0,  0,  0,  0,  0], [0,  0,  -250.31000101630895,  0,  0,  0,  0.0,  205.59768741610984,  96.62021363185038,  0,  0,  0,  0,  0,  0,  0,  0,  0,  0,  0,  0,  0,  0,  0,  0,  0,  0,  0,  0,  0,  0,  0,  0,  0,  0,  0], [0,  526.9694322798201,  550.9527242805113,  0,  0,  0,  407.8815735602236,  0.0,  55.91559071838881,  0,  446.13949277986086,  0,  0,  0,  0,  0,  0,  0,  0,  0,  0,  0,  0,  0,  0,  452.09237857333784,  0,  272.2847928929465,  0,  -21.237323650295064,  65.72354071409316,  0,  0,  0,  0,  0], [0,  388.70659452406653,  507.24715167902986,  0,  0,  0,  535.0652281347483,  -61.012198153664315,  0.0,  0,  366.09734345959384,  0,  0,  0,  0,  0,  0,  0,  0,  0,  0,  0,  364.3789997185556,  0,  0,  -91.36116693116148,  0,  133.1734263598072,  0,  -77.4650111233598,  0,  0,  0,  0,  0,  0], [0,  0,  0,  0,  0,  0,  0,  0,  0,  0.0,  0,  0,  0,  0,  0,  0,  0,  0,  0,  0,  0,  0,  0,  0,  0,  0,  0,  0,  0,  0,  0,  0,  0,  0,  0,  0], [409.6929122710524,  22.831372166559106,  59.42031348139431,  0,  0,  0,  0,  -199.5232741052929,  -124.77288075539218,  0,  0.0,  0,  0,  0,  0,  0,  0,  0,  0,  0,  0,  0,  0,  0,  0,  0,  0,  0,  0,  0,  0,  0,  0,  0,  0,  0], [253.64181754760426,  0,  -244.73070540450144,  0,  0,  0,  0,  0,  0,  0,  0,  0.0,  0,  0,  0,  0,  0,  0,  0,  0,  0,  0,  0,  0,  0,  0,  0,  0,  0,  0,  0,  0,  0,  0,  0,  0], [0,  0,  0,  0,  0,  0,  0,  0,  0,  0,  0,  0,  0.0,  0,  0,  0,  0,  0,  0,  0,  0,  0,  0,  0,  0,  0,  0,  0,  0,  0,  0,  0,  0,  0,  0,  0], [-233.89915655570724,  0,  0,  0,  0,  0,  0,  0,  0,  0,  0,  0,  0,  0.0,  0,  0,  0,  0,  0,  0,  0,  0,  0,  0,  0,  0,  0,  0,  0,  0,  0,  0,  0,  0,  0,  0], [0,  0,  0,  0,  0,  0,  0,  0,  0,  0,  0,  0,  0,  0,  0.0,  0,  0,  0,  0,  0,  0,  0,  0,  0,  0,  0,  0,  0,  0,  0,  0,  0,  0,  0,  0,  0], [0,  0,  0,  0,  0,  0,  0,  0,  0,  0,  0,  0,  0,  0,  0,  0.0,  0,  0,  0,  0,  0,  0,  0,  0,  0,  0,  0,  0,  0,  0,  0,  0,  0,  0,  0,  0], [0,  0,  0,  0,  0,  0,  0,  0,  0,  0,  0,  0,  0,  0,  0,  0,  0.0,  0,  0,  0,  0,  0,  0,  0,  0,  0,  0,  0,  0,  0,  0,  0,  0,  0,  0,  0], [0,  0,  0,  0,  0,  0,  0,  0,  0,  0,  0,  0,  0,  0,  0,  0,  0,  0.0,  0,  0,  0,  0,  0,  0,  0,  0,  0,  0,  0,  0,  0,  0,  0,  0,  0,  0], [0,  -102.54059144346337,  0,  0,  0,  0,  0,  0,  0,  0,  0,  0,  0,  0,  0,  0,  0,  0,  0.0,  0,  0,  0,  0,  0,  0,  0,  0,  0,  0,  0,  0,  0,  0,  0,  0,  0], [-50.27163139652671,  0,  0,  0,  0,  0,  0,  0,  0,  0,  0,  0,  0,  0,  0,  0,  0,  0,  0,  0.0,  0,  0,  0,  0,  0,  0,  0,  0,  0,  0,  0,  0,  0,  0,  0,  0], [0,  0,  0,  0,  0,  0,  0,  0,  0,  0,  0,  0,  0,  0,  0,  0,  0,  0,  0,  0,  0.0,  0,  0,  0,  0,  0,  0,  0,  0,  0,  0,  0,  0,  0,  0,  0], [460.8207717038273,  332.81470544570556,  192.81253969436676,  0,  0,  0,  0,  0,  0,  0,  0,  0,  0,  0,  0,  0,  0,  0,  0,  0,  0,  0.0,  0,  0,  0,  0,  0,  0,  0,  0,  0,  0,  0,  0,  0,  0], [0,  170.17032775044984,  158.3067762823564,  0,  0,  0,  0,  0,  397.9082656258116,  0,  0,  0,  0,  0,  0,  0,  0,  0,  0,  0,  0,  0,  0.0,  0,  0,  0,  0,  0,  0,  0,  0,  0,  0,  0,  0,  0], [0,  0,  -77.22885019628885,  0,  0,  0,  0,  0,  0,  0,  0,  0,  0,  0,  0,  0,  0,  0,  0,  0,  0,  0,  0,  0.0,  0,  0,  0,  0,  0,  0,  0,  0,  0,  0,  0,  0], [0,  -266.3778510428779,  0,  0,  0,  0,  0,  0,  0,  0,  0,  0,  0,  0,  0,  0,  0,  0,  0,  0,  0,  0,  0,  0,  0.0,  0,  0,  0,  0,  0,  0,  0,  0,  0,  0,  0], [339.4021510709245,  16.926443194624536,  109.65646790080935,  0,  0,  0,  0,  -324.5047896792737,  253.15651262949805,  0,  0,  0,  0,  0,  0,  0,  0,  0,  0,  0,  0,  0,  0,  0,  0,  0.0,  0,  0,  0,  0,  0,  0,  0,  0,  0,  0], [276.21544066910525,  56.27951908501512,  38.631308113493304,  0,  0,  0,  0,  0,  0,  0,  0,  0,  0,  0,  0,  0,  0,  0,  0,  0,  0,  0,  0,  0,  0,  0,  0.0,  0,  0,  0,  0,  0,  0,  0,  0,  0], [211.25593817272332,  -85.53735694802691,  42.36887055464869,  0,  0,  0,  0,  -160.9460620916507,  -30.365424056242578,  0,  0,  0,  0,  0,  0,  0,  0,  0,  0,  0,  0,  0,  0,  0,  0,  0,  0,  0.0,  0,  0,  0,  0,  0,  0,  0,  0], [0,  -616.2295066927643,  -512.3494454950339,  0,  0,  0,  0,  0,  0,  0,  0,  0,  0,  0,  0,  0,  0,  0,  0,  0,  0,  0,  0,  0,  0,  0,  0,  0,  0.0,  0,  0,  0,  0,  0,  0,  0], [-85.12723302822542,  0,  0,  0,  0,  0,  0,  26.344146442100588,  46.03718998799464,  0,  0,  0,  0,  0,  0,  0,  0,  0,  0,  0,  0,  0,  0,  0,  0,  0,  0,  0,  0,  0.0,  0,  0,  0,  0,  0,  0], [-2564.672442623398,  351.1971137166021,  566.6827127122892,  0,  0,  0,  0,  -13.75268791880117,  0,  0,  0,  0,  0,  0,  0,  0,  0,  0,  0,  0,  0,  0,  0,  0,  0,  0,  0,  0,  0,  0,  0.0,  0,  0,  0,  0,  0], [0,  0,  0,  0,  0,  0,  0,  0,  0,  0,  0,  0,  0,  0,  0,  0,  0,  0,  0,  0,  0,  0,  0,  0,  0,  0,  0,  0,  0,  0,  0,  0.0,  0,  0,  0,  0], [0,  0,  0,  0,  0,  0,  0,  0,  0,  0,  0,  0,  0,  0,  0,  0,  0,  0,  0,  0,  0,  0,  0,  0,  0,  0,  0,  0,  0,  0,  0,  0,  0.0,  0,  0,  0], [0,  0,  0,  0,  0,  0,  0,  0,  0,  0,  0,  0,  0,  0,  0,  0,  0,  0,  0,  0,  0,  0,  0,  0,  0,  0,  0,  0,  0,  0,  0,  0,  0,  0.0,  0,  0], [0,  0,  0,  0,  0,  0,  0,  0,  0,  0,  0,  0,  0,  0,  0,  0,  0,  0,  0,  0,  0,  0,  0,  0,  0,  0,  0,  0,  0,  0,  0,  0,  0,  0,  0.0,  0], [0,  0,  0,  0,  0,  0,  0,  0,  0,  0,  0,  0,  0,  0,  0,  0,  0,  0,  0,  0,  0,  0,  0,  0,  0,  0,  0,  0,  0,  0,  0,  0,  0,  0,  0,  0.0]]\n",
    "#alpha_consts = IPDB.get_ip_asymmetric_matrix('ChemSep NRTL', consts.CASs, 'alphaij')\n",
    "#alpha_c = [[0.0,  0.2937,  0.2999,  0.3,  0.3,  0.3,  0.3,  0.3,  0.3,  0.3,  0.5663,  0.4447,  0.3,  0.1563,  0.3,  0.3,  0.3,  0.3,  0.3,  0.2974,  0.3,  0.4522,  0.3,  0.3,  0.3,  0.3536,  0.292,  0.6802,  0.3,  0.2932,  0.0381,  0.3,  0.3,  0.3,  0.3,  0.3], [0.2937,  0.0,  0.3009,  0.305,  0.3,  0.3,  0.3,  0.297,  0.2937,  0.3,  0.3006,  0.3,  0.3,  0.3,  0.3,  0.3,  0.3,  0.3,  0.3704,  0.3,  0.3,  0.3015,  0.2964,  0.3,  0.3125,  0.3022,  0.2988,  0.3017,  0.3105,  0.3,  0.2996,  0.3,  0.3,  0.3,  0.3,  0.3], [0.2999,  0.3009,  0.0,  0.3051,  0.3,  0.3,  0.3079,  0.4893,  0.4064,  0.3,  0.3003,  0.2483,  0.3,  0.3,  0.3,  0.3,  0.3,  0.3,  0.3,  0.3,  0.3,  0.3002,  0.2981,  0.3003,  0.3,  0.3003,  0.2985,  0.3027,  0.3134,  0.3,  0.2874,  0.3,  0.3,  0.3,  0.3,  0.3], [0.3,  0.305,  0.3051,  0.0,  0.3,  0.3,  0.3,  0.3,  0.3,  0.3,  0.3,  0.3,  0.3,  0.3,  0.3,  0.3,  0.3,  0.3,  0.3,  0.3,  0.3,  0.3,  0.3,  0.3,  0.3,  0.3,  0.3,  0.3,  0.3,  0.3,  0.3,  0.3,  0.3,  0.3,  0.3,  0.3], [0.3,  0.3,  0.3,  0.3,  0.0,  0.3,  0.3,  0.3,  0.3,  0.3,  0.3,  0.3,  0.3,  0.3,  0.3,  0.3,  0.3,  0.3,  0.3,  0.3,  0.3,  0.3,  0.3,  0.3,  0.3,  0.3,  0.3,  0.3,  0.3,  0.3,  0.3,  0.3,  0.3,  0.3,  0.3,  0.3], [0.3,  0.3,  0.3,  0.3,  0.3,  0.0,  0.3,  0.3,  0.3,  0.3,  0.3,  0.3,  0.3,  0.3,  0.3,  0.3,  0.3,  0.3,  0.3,  0.3,  0.3,  0.3,  0.3,  0.3,  0.3,  0.3,  0.3,  0.3,  0.3,  0.3,  0.3,  0.3,  0.3,  0.3,  0.3,  0.3], [0.3,  0.3,  0.3079,  0.3,  0.3,  0.3,  0.0,  0.6691,  0.2898,  0.3,  0.3,  0.3,  0.3,  0.3,  0.3,  0.3,  0.3,  0.3,  0.3,  0.3,  0.3,  0.3,  0.3,  0.3,  0.3,  0.3,  0.3,  0.3,  0.3,  0.3,  0.3,  0.3,  0.3,  0.3,  0.3,  0.3], [0.3,  0.297,  0.4893,  0.3,  0.3,  0.3,  0.6691,  0.0,  0.3033,  0.3,  0.2971,  0.3,  0.3,  0.3,  0.3,  0.3,  0.3,  0.3,  0.3,  0.3,  0.3,  0.3,  0.3,  0.3,  0.3,  0.1563,  0.3,  0.2795,  0.3,  0.2813,  0.3037,  0.3,  0.3,  0.3,  0.3,  0.3], [0.3,  0.2937,  0.4064,  0.3,  0.3,  0.3,  0.2898,  0.3033,  0.0,  0.3,  0.295,  0.3,  0.3,  0.3,  0.3,  0.3,  0.3,  0.3,  0.3,  0.3,  0.3,  0.3,  0.9353,  0.3,  0.3,  0.2996,  0.3,  0.2992,  0.3,  5.1012,  0.3,  0.3,  0.3,  0.3,  0.3,  0.3], [0.3,  0.3,  0.3,  0.3,  0.3,  0.3,  0.3,  0.3,  0.3,  0.0,  0.3,  0.3,  0.3,  0.3,  0.3,  0.3,  0.3,  0.3,  0.3,  0.3,  0.3,  0.3,  0.3,  0.3,  0.3,  0.3,  0.3,  0.3,  0.3,  0.3,  0.3,  0.3,  0.3,  0.3,  0.3,  0.3], [0.5663,  0.3006,  0.3003,  0.3,  0.3,  0.3,  0.3,  0.2971,  0.295,  0.3,  0.0,  0.3,  0.3,  0.3,  0.3,  0.3,  0.3,  0.3,  0.3,  0.3,  0.3,  0.3,  0.3,  0.3,  0.3,  0.3,  0.3,  0.3,  0.3,  0.3,  0.3,  0.3,  0.3,  0.3,  0.3,  0.3], [0.4447,  0.3,  0.2483,  0.3,  0.3,  0.3,  0.3,  0.3,  0.3,  0.3,  0.3,  0.0,  0.3,  0.3,  0.3,  0.3,  0.3,  0.3,  0.3,  0.3,  0.3,  0.3,  0.3,  0.3,  0.3,  0.3,  0.3,  0.3,  0.3,  0.3,  0.3,  0.3,  0.3,  0.3,  0.3,  0.3], [0.3,  0.3,  0.3,  0.3,  0.3,  0.3,  0.3,  0.3,  0.3,  0.3,  0.3,  0.3,  0.0,  0.3,  0.3,  0.3,  0.3,  0.3,  0.3,  0.3,  0.3,  0.3,  0.3,  0.3,  0.3,  0.3,  0.3,  0.3,  0.3,  0.3,  0.3,  0.3,  0.3,  0.3,  0.3,  0.3], [0.1563,  0.3,  0.3,  0.3,  0.3,  0.3,  0.3,  0.3,  0.3,  0.3,  0.3,  0.3,  0.3,  0.0,  0.3,  0.3,  0.3,  0.3,  0.3,  0.3,  0.3,  0.3,  0.3,  0.3,  0.3,  0.3,  0.3,  0.3,  0.3,  0.3,  0.3,  0.3,  0.3,  0.3,  0.3,  0.3], [0.3,  0.3,  0.3,  0.3,  0.3,  0.3,  0.3,  0.3,  0.3,  0.3,  0.3,  0.3,  0.3,  0.3,  0.0,  0.3,  0.3,  0.3,  0.3,  0.3,  0.3,  0.3,  0.3,  0.3,  0.3,  0.3,  0.3,  0.3,  0.3,  0.3,  0.3,  0.3,  0.3,  0.3,  0.3,  0.3], [0.3,  0.3,  0.3,  0.3,  0.3,  0.3,  0.3,  0.3,  0.3,  0.3,  0.3,  0.3,  0.3,  0.3,  0.3,  0.0,  0.3,  0.3,  0.3,  0.3,  0.3,  0.3,  0.3,  0.3,  0.3,  0.3,  0.3,  0.3,  0.3,  0.3,  0.3,  0.3,  0.3,  0.3,  0.3,  0.3], [0.3,  0.3,  0.3,  0.3,  0.3,  0.3,  0.3,  0.3,  0.3,  0.3,  0.3,  0.3,  0.3,  0.3,  0.3,  0.3,  0.0,  0.3,  0.3,  0.3,  0.3,  0.3,  0.3,  0.3,  0.3,  0.3,  0.3,  0.3,  0.3,  0.3,  0.3,  0.3,  0.3,  0.3,  0.3,  0.3], [0.3,  0.3,  0.3,  0.3,  0.3,  0.3,  0.3,  0.3,  0.3,  0.3,  0.3,  0.3,  0.3,  0.3,  0.3,  0.3,  0.3,  0.0,  0.3,  0.3,  0.3,  0.3,  0.3,  0.3,  0.3,  0.3,  0.3,  0.3,  0.3,  0.3,  0.3,  0.3,  0.3,  0.3,  0.3,  0.3], [0.3,  0.3704,  0.3,  0.3,  0.3,  0.3,  0.3,  0.3,  0.3,  0.3,  0.3,  0.3,  0.3,  0.3,  0.3,  0.3,  0.3,  0.3,  0.0,  0.3,  0.3,  0.3,  0.3,  0.3,  0.3,  0.3,  0.3,  0.3,  0.3,  0.3,  0.3,  0.3,  0.3,  0.3,  0.3,  0.3], [0.2974,  0.3,  0.3,  0.3,  0.3,  0.3,  0.3,  0.3,  0.3,  0.3,  0.3,  0.3,  0.3,  0.3,  0.3,  0.3,  0.3,  0.3,  0.3,  0.0,  0.3,  0.3,  0.3,  0.3,  0.3,  0.3,  0.3,  0.3,  0.3,  0.3,  0.3,  0.3,  0.3,  0.3,  0.3,  0.3], [0.3,  0.3,  0.3,  0.3,  0.3,  0.3,  0.3,  0.3,  0.3,  0.3,  0.3,  0.3,  0.3,  0.3,  0.3,  0.3,  0.3,  0.3,  0.3,  0.3,  0.0,  0.3,  0.3,  0.3,  0.3,  0.3,  0.3,  0.3,  0.3,  0.3,  0.3,  0.3,  0.3,  0.3,  0.3,  0.3], [0.4522,  0.3015,  0.3002,  0.3,  0.3,  0.3,  0.3,  0.3,  0.3,  0.3,  0.3,  0.3,  0.3,  0.3,  0.3,  0.3,  0.3,  0.3,  0.3,  0.3,  0.3,  0.0,  0.3,  0.3,  0.3,  0.3,  0.3,  0.3,  0.3,  0.3,  0.3,  0.3,  0.3,  0.3,  0.3,  0.3], [0.3,  0.2964,  0.2981,  0.3,  0.3,  0.3,  0.3,  0.3,  0.9353,  0.3,  0.3,  0.3,  0.3,  0.3,  0.3,  0.3,  0.3,  0.3,  0.3,  0.3,  0.3,  0.3,  0.0,  0.3,  0.3,  0.3,  0.3,  0.3,  0.3,  0.3,  0.3,  0.3,  0.3,  0.3,  0.3,  0.3], [0.3,  0.3,  0.3003,  0.3,  0.3,  0.3,  0.3,  0.3,  0.3,  0.3,  0.3,  0.3,  0.3,  0.3,  0.3,  0.3,  0.3,  0.3,  0.3,  0.3,  0.3,  0.3,  0.3,  0.0,  0.3,  0.3,  0.3,  0.3,  0.3,  0.3,  0.3,  0.3,  0.3,  0.3,  0.3,  0.3], [0.3,  0.3125,  0.3,  0.3,  0.3,  0.3,  0.3,  0.3,  0.3,  0.3,  0.3,  0.3,  0.3,  0.3,  0.3,  0.3,  0.3,  0.3,  0.3,  0.3,  0.3,  0.3,  0.3,  0.3,  0.0,  0.3,  0.3,  0.3,  0.3,  0.3,  0.3,  0.3,  0.3,  0.3,  0.3,  0.3], [0.3536,  0.3022,  0.3003,  0.3,  0.3,  0.3,  0.3,  0.1563,  0.2996,  0.3,  0.3,  0.3,  0.3,  0.3,  0.3,  0.3,  0.3,  0.3,  0.3,  0.3,  0.3,  0.3,  0.3,  0.3,  0.3,  0.0,  0.3,  0.3,  0.3,  0.3,  0.3,  0.3,  0.3,  0.3,  0.3,  0.3], [0.292,  0.2988,  0.2985,  0.3,  0.3,  0.3,  0.3,  0.3,  0.3,  0.3,  0.3,  0.3,  0.3,  0.3,  0.3,  0.3,  0.3,  0.3,  0.3,  0.3,  0.3,  0.3,  0.3,  0.3,  0.3,  0.3,  0.0,  0.3,  0.3,  0.3,  0.3,  0.3,  0.3,  0.3,  0.3,  0.3], [0.6802,  0.3017,  0.3027,  0.3,  0.3,  0.3,  0.3,  0.2795,  0.2992,  0.3,  0.3,  0.3,  0.3,  0.3,  0.3,  0.3,  0.3,  0.3,  0.3,  0.3,  0.3,  0.3,  0.3,  0.3,  0.3,  0.3,  0.3,  0.0,  0.3,  0.3,  0.3,  0.3,  0.3,  0.3,  0.3,  0.3], [0.3,  0.3105,  0.3134,  0.3,  0.3,  0.3,  0.3,  0.3,  0.3,  0.3,  0.3,  0.3,  0.3,  0.3,  0.3,  0.3,  0.3,  0.3,  0.3,  0.3,  0.3,  0.3,  0.3,  0.3,  0.3,  0.3,  0.3,  0.3,  0.0,  0.3,  0.3,  0.3,  0.3,  0.3,  0.3,  0.3], [0.2932,  0.3,  0.3,  0.3,  0.3,  0.3,  0.3,  0.2813,  5.1012,  0.3,  0.3,  0.3,  0.3,  0.3,  0.3,  0.3,  0.3,  0.3,  0.3,  0.3,  0.3,  0.3,  0.3,  0.3,  0.3,  0.3,  0.3,  0.3,  0.3,  0.0,  0.3,  0.3,  0.3,  0.3,  0.3,  0.3], [0.0381,  0.2996,  0.2874,  0.3,  0.3,  0.3,  0.3,  0.3037,  0.3,  0.3,  0.3,  0.3,  0.3,  0.3,  0.3,  0.3,  0.3,  0.3,  0.3,  0.3,  0.3,  0.3,  0.3,  0.3,  0.3,  0.3,  0.3,  0.3,  0.3,  0.3,  0.0,  0.3,  0.3,  0.3,  0.3,  0.3], [0.3,  0.3,  0.3,  0.3,  0.3,  0.3,  0.3,  0.3,  0.3,  0.3,  0.3,  0.3,  0.3,  0.3,  0.3,  0.3,  0.3,  0.3,  0.3,  0.3,  0.3,  0.3,  0.3,  0.3,  0.3,  0.3,  0.3,  0.3,  0.3,  0.3,  0.3,  0.0,  0.3,  0.3,  0.3,  0.3], [0.3,  0.3,  0.3,  0.3,  0.3,  0.3,  0.3,  0.3,  0.3,  0.3,  0.3,  0.3,  0.3,  0.3,  0.3,  0.3,  0.3,  0.3,  0.3,  0.3,  0.3,  0.3,  0.3,  0.3,  0.3,  0.3,  0.3,  0.3,  0.3,  0.3,  0.3,  0.3,  0.0,  0.3,  0.3,  0.3], [0.3,  0.3,  0.3,  0.3,  0.3,  0.3,  0.3,  0.3,  0.3,  0.3,  0.3,  0.3,  0.3,  0.3,  0.3,  0.3,  0.3,  0.3,  0.3,  0.3,  0.3,  0.3,  0.3,  0.3,  0.3,  0.3,  0.3,  0.3,  0.3,  0.3,  0.3,  0.3,  0.3,  0.0,  0.3,  0.3], [0.3,  0.3,  0.3,  0.3,  0.3,  0.3,  0.3,  0.3,  0.3,  0.3,  0.3,  0.3,  0.3,  0.3,  0.3,  0.3,  0.3,  0.3,  0.3,  0.3,  0.3,  0.3,  0.3,  0.3,  0.3,  0.3,  0.3,  0.3,  0.3,  0.3,  0.3,  0.3,  0.3,  0.3,  0.0,  0.3], [0.3,  0.3,  0.3,  0.3,  0.3,  0.3,  0.3,  0.3,  0.3,  0.3,  0.3,  0.3,  0.3,  0.3,  0.3,  0.3,  0.3,  0.3,  0.3,  0.3,  0.3,  0.3,  0.3,  0.3,  0.3,  0.3,  0.3,  0.3,  0.3,  0.3,  0.3,  0.3,  0.3,  0.3,  0.3,  0.0]]\n",
    "tau_b = np.zeros_like(tau_a)\n",
    "\n",
    "T = 273.15+25\n",
    "P = 101325\n",
    "\"\"\"Build NRTL.\"\"\"\n",
    "#tau_as = tau_a\n",
    "#tau_bs = tau_b\n",
    "#alpha_cs = alpha_c\n",
    "\n",
    "tau_as = IPDB.get_ip_asymmetric_matrix('ChemSep NRTL', consts.CASs, 'alphaij')\n",
    "alpha_cs = IPDB.get_ip_asymmetric_matrix(name='ChemSep NRTL',CASs= consts.CASs, ip='bij')\n",
    "#NRTL(T=T, xs=zs, tau_as=tau_as, alpha_cs=alpha_cs)\n",
    "\n",
    "#CEOSLiquid(PRMIX, eos_kwargs=eos_kwargs, HeatCapacityGases=correlations.HeatCapacityGases)\n",
    "\n",
    "    \n",
    "\"\"\"Build NRTL flasher.\"\"\"\n",
    "if zs is None:\n",
    "    zs = [1.0/len(liquid_list)] * len(liquid_list)\n",
    "consts, props = ChemicalConstantsPackage.from_IDs(liquid_list)\n",
    "kijs = IPDB.get_ip_asymmetric_matrix('ChemSep PR', consts.CASs, 'kij')\n",
    "eos_kwargs = {'Pcs': consts.Pcs, 'Tcs': consts.Tcs, 'omegas': consts.omegas, 'kijs': kijs}\n",
    "gas = CEOSGas(PRMIX, eos_kwargs=eos_kwargs, HeatCapacityGases=props.HeatCapacityGases)\n",
    "\n",
    "nrtl = NRTL(T=T, xs=zs, tau_as=tau_as, alpha_cs=alpha_cs)\n",
    "liquid = GibbsExcessLiquid(\n",
    "    VaporPressures=props.VaporPressures,\n",
    "    HeatCapacityGases=props.HeatCapacityGases,\n",
    "    VolumeLiquids=props.VolumeLiquids,\n",
    "    GibbsExcessModel=nrtl,\n",
    "    equilibrium_basis='Psat', caloric_basis='Psat',\n",
    "    T=T, P=P, zs=zs)\n",
    "\n",
    "\n",
    "\"\"\"Run.\"\"\"\n",
    "\n",
    "\n",
    "flasher = FlashPureVLS(consts, props, liquids=[liquid], gas=gas, solids=[])\n",
    "\n",
    "temp = 273.15+15  # this guess is accurate\n",
    "pres = 1.013* (10**5) #*98066.5\n",
    "mole_fractions = {'water':0.8,'ethanol':0.2}\n",
    "zs = [mole_fractions[i] if i in mole_fractions.keys() else 0.000000000001 for i in liquid_list]\n",
    "res = flasher.flash(zs=zs, P=pres, T=temp)  # use hot_start for speed\n",
    "print((res.T, res.H(), res.liquid0.rho_mass(),res.MW()))\n"
   ]
  },
  {
   "cell_type": "code",
   "execution_count": 25,
   "metadata": {},
   "outputs": [],
   "source": [
    "import pandas as pd\n",
    "import numpy as np\n",
    "a_consts = pd.read_csv('gibbs_constsa_trial.csv',index_col=[0])\n",
    "tau_as =np.array(a_consts)\n",
    "b_consts = pd.read_csv('gibbs_constsb_trial.csv',index_col=[0])\n",
    "tau_bs =np.array(a_consts)\n",
    "alpha_consts = pd.read_csv('gibbs_alpha_trial.csv',index_col=[0])\n",
    "alpha_cs = np.array(alpha_consts)\n",
    "\n"
   ]
  },
  {
   "cell_type": "code",
   "execution_count": 3,
   "metadata": {},
   "outputs": [],
   "source": [
    "#!/usr/bin/env python\n",
    "\n",
    "from thermo import ChemicalConstantsPackage, PRMIX, CEOSGas, FlashVL, EquilibriumState, GibbsExcessLiquid,FlashPureVLS\n",
    "from thermo.interaction_parameters import IPDB\n",
    "from thermo.nrtl import NRTL\n",
    "from thermo import ChemicalConstantsPackage, PRMIX, CEOSLiquid, CEOSGas, FlashPureVLS,IAPWS95Gas,IAPWS95Liquid\n",
    "import decimal\n",
    "decimal.getcontext().prec = 100\n",
    "\n",
    "liquid_list = ['water', 'ethanol', 'methanol',  'propylene glycol', 'benzene', 'toluene', 'xylene', 'ethylene glycol', 'diethylene glycol','isopropyl alcohol', 'methyl ethyl ketone', 'dimethylamine']#,  'triethanolamine']#'methyldiethanolamine']\n",
    "#liquid_list = ['water', 'ethanol']\n",
    "liquid_list= ['water', 'ethanol', 'methanol', 'acetic acid', 'propylene glycol', 'glycerol', 'dimethyl sulfoxide', 'benzene', 'toluene', 'xylene', 'acetone', 'butanol', 'pentanol', 'hexanol', 'heptanol', 'octanol', 'nonanol', 'decanol', 'ethylene glycol', 'diethylene glycol', 'propylene carbonate', 'tetrahydrofuran', 'acetonitrile', 'formamide', 'isopropyl alcohol', 'methyl ethyl ketone', 'dioxane', 'pyridine', 'dimethylamine', 'diethylamine', 'triethylamine', 'trimethylamine', 'ethanolamine', 'diethanolamine', 'triethanolamine', 'methyldiethanolamine']\n",
    "import pandas as pd\n",
    "import numpy as np\n",
    "\n",
    "\n",
    "\n",
    "T = 298.15\n",
    "P = 101325\n",
    "\"\"\"Build NRTL.\"\"\"\n",
    "\n",
    "\n",
    "\n",
    "a_consts = pd.read_csv('gibbs_constsa_trial.csv',index_col=[0]).values.tolist()\n",
    "#tau_as =np.array(a_consts)\n",
    "b_consts = pd.read_csv('gibbs_constsb_trial.csv',index_col=[0]).values.tolist()\n",
    "#tau_bs =np.array(a_consts)\n",
    "alpha_consts = pd.read_csv('gibbs_alpha_trial.csv',index_col=[0]).values.tolist()\n",
    "#alpha_cs = np.array(alpha_consts)\n",
    "\n",
    "    \n",
    "\"\"\"Build NRTL flasher.\"\"\"\n",
    "#if zs is None:\n",
    "zs = [1.0/len(liquid_list)] * len(liquid_list)\n",
    "consts, props = ChemicalConstantsPackage.from_IDs(liquid_list)\n",
    "kijs = IPDB.get_ip_asymmetric_matrix('ChemSep PR', consts.CASs, 'kij')\n",
    "eos_kwargs = {'Pcs': consts.Pcs, 'Tcs': consts.Tcs, 'omegas': consts.omegas, 'kijs': kijs}\n",
    "gas = CEOSGas(PRMIX, eos_kwargs=eos_kwargs, HeatCapacityGases=props.HeatCapacityGases)\n",
    "\n",
    "nrtl = NRTL(T=T, xs=zs, tau_as=a_consts,tau_bs=b_consts ,alpha_cs=alpha_consts)\n",
    "liquid = GibbsExcessLiquid(\n",
    "    VaporPressures=props.VaporPressures,\n",
    "    HeatCapacityGases=props.HeatCapacityGases,\n",
    "    VolumeLiquids=props.VolumeLiquids,\n",
    "    GibbsExcessModel=nrtl,\n",
    "    equilibrium_basis='Psat', caloric_basis='Psat',\n",
    "    T=T, P=P, zs=zs)\n",
    "\n",
    "\n",
    "\"\"\"Run.\"\"\"\n",
    "\n",
    "\n",
    "flasher = FlashVL(consts, props, liquid=liquid, gas=gas)\n",
    "\n",
    "temp = 273.15+15  # this guess is accurate\n",
    "pres = 1.013* (10**5) #*98066.5\n",
    "mole_fractions = {'water':0.8,'ethanol':0.2}\n",
    "zs = [mole_fractions[i] if i in mole_fractions.keys() else 0.000000000001 for i in liquid_list]\n",
    "#res = flasher.flash(zs=zs, P=pres, T=temp)  # use hot_start for speed\n",
    "#print((res.T, res.H(), res.rho_mass(),res.MW()))\n"
   ]
  },
  {
   "cell_type": "code",
   "execution_count": 30,
   "metadata": {},
   "outputs": [],
   "source": [
    "\n",
    "#!/usr/bin/env python\n",
    "\n",
    "from thermo import ChemicalConstantsPackage, PRMIX, CEOSGas, FlashVL, EquilibriumState, GibbsExcessLiquid,FlashPureVLS\n",
    "from thermo.interaction_parameters import IPDB\n",
    "from thermo.nrtl import NRTL\n",
    "from thermo import ChemicalConstantsPackage, PRMIX, CEOSLiquid, CEOSGas, FlashPureVLS,IAPWS95Gas,IAPWS95Liquid\n",
    "gases_list = ['water', 'hydrogen', 'nitrogen', 'carbon dioxide', 'hydrogen sulfide','methane',\n",
    "'ethane', 'propane', 'isobutane', 'n-butane', 'isopentane', 'n-pentane', 'hexane',\n",
    "'heptane', 'octane', 'nonane','ammonia']\n",
    "liquid_list= liquid_list= ['water', 'ethanol', 'methanol', 'acetic acid', 'propylene glycol', 'glycerol', 'dimethyl sulfoxide', 'benzene', 'toluene', 'xylene', 'acetone', 'butanol', 'pentanol', 'hexanol', 'heptanol', 'octanol', 'nonanol', 'decanol', 'ethylene glycol', 'diethylene glycol', 'propylene carbonate', 'tetrahydrofuran', 'acetonitrile', 'formamide', 'isopropyl alcohol', 'methyl ethyl ketone', 'dioxane', 'pyridine', 'dimethylamine', 'diethylamine', 'triethylamine', 'trimethylamine', 'ethanolamine', 'diethanolamine', 'triethanolamine', 'methyldiethanolamine']\n",
    "c = gases_list + liquid_list\n",
    "c.remove('water')\n",
    "constants, correlations = ChemicalConstantsPackage.from_IDs(c)\n",
    "kijs = IPDB.get_ip_asymmetric_matrix('ChemSep PR', constants.CASs, 'kij')"
   ]
  },
  {
   "cell_type": "code",
   "execution_count": 32,
   "metadata": {},
   "outputs": [],
   "source": [
    "import pickle\n",
    "  \n",
    "  \n",
    "# Open a file and use dump()\n",
    "with open('kijs.pkl', 'wb') as file:\n",
    "      \n",
    "    # A new file will be created\n",
    "    pickle.dump(kijs, file)\n",
    "with open('kijs.pkl', 'rb') as file:\n",
    "      \n",
    "    # Call load method to deserialze\n",
    "    kijs = pickle.load(file)\n",
    "  \n",
    "    "
   ]
  },
  {
   "cell_type": "code",
   "execution_count": 20,
   "metadata": {},
   "outputs": [],
   "source": [
    "import pickle\n",
    "  \n",
    "  \n",
    "# Open a file and use dump()\n",
    "with open('consts.pkl', 'wb') as file:\n",
    "      \n",
    "    # A new file will be created\n",
    "    pickle.dump(constants, file)\n",
    "with open('consts.pkl', 'rb') as file:\n",
    "      \n",
    "    # Call load method to deserialze\n",
    "    constants = pickle.load(file)\n",
    "  \n",
    "    "
   ]
  },
  {
   "cell_type": "code",
   "execution_count": 21,
   "metadata": {},
   "outputs": [],
   "source": [
    "import pickle\n",
    "  \n",
    "  \n",
    "# Open a file and use dump()\n",
    "with open('props.pkl', 'wb') as file:\n",
    "      \n",
    "    # A new file will be created\n",
    "    pickle.dump(correlations, file)\n",
    "with open('props.pkl', 'rb') as file:\n",
    "      \n",
    "    # Call load method to deserialze\n",
    "    correlations = pickle.load(file)\n",
    "  \n"
   ]
  },
  {
   "cell_type": "code",
   "execution_count": 31,
   "metadata": {},
   "outputs": [],
   "source": [
    "with open('consts.pkl', 'rb') as file:\n",
    "      \n",
    "    # Call load method to deserialze\n",
    "    constants = pickle.load(file)\n",
    "with open('props.pkl', 'rb') as file:\n",
    "      \n",
    "    # Call load method to deserialze\n",
    "    correlations = pickle.load(file)\n",
    "zs = [1/(len(c)) for i in range(len(c))]\n",
    "eos_kwargs = {'Pcs': constants.Pcs, 'Tcs': constants.Tcs, 'omegas': constants.omegas, 'kijs': kijs}\n",
    "gas = CEOSGas(PRMIX, eos_kwargs=eos_kwargs, HeatCapacityGases=correlations.HeatCapacityGases)\n",
    "liquid = CEOSLiquid(PRMIX, eos_kwargs=eos_kwargs, HeatCapacityGases=correlations.HeatCapacityGases)\n",
    "flasher = FlashPureVLS(constants, correlations, liquids=[liquid], gas=gas, solids=[])\n",
    "T1 = 273.15+30\n",
    "state_1 = flasher.flash(P=100000, T=T1,zs=zs)"
   ]
  },
  {
   "cell_type": "code",
   "execution_count": 29,
   "metadata": {},
   "outputs": [
    {
     "data": {
      "text/plain": [
       "52"
      ]
     },
     "execution_count": 29,
     "metadata": {},
     "output_type": "execute_result"
    }
   ],
   "source": [
    "len(constants.Tcs)"
   ]
  },
  {
   "cell_type": "code",
   "execution_count": 28,
   "metadata": {},
   "outputs": [
    {
     "data": {
      "text/plain": [
       "52"
      ]
     },
     "execution_count": 28,
     "metadata": {},
     "output_type": "execute_result"
    }
   ],
   "source": [
    "len(zs)"
   ]
  }
 ],
 "metadata": {
  "kernelspec": {
   "display_name": "base",
   "language": "python",
   "name": "python3"
  },
  "language_info": {
   "codemirror_mode": {
    "name": "ipython",
    "version": 3
   },
   "file_extension": ".py",
   "mimetype": "text/x-python",
   "name": "python",
   "nbconvert_exporter": "python",
   "pygments_lexer": "ipython3",
   "version": "3.8.16"
  },
  "orig_nbformat": 4
 },
 "nbformat": 4,
 "nbformat_minor": 2
}
